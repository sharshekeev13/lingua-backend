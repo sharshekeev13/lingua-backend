{
  "cells": [
    {
      "cell_type": "markdown",
      "metadata": {
        "id": "ajkRm_i62Eb4"
      },
      "source": [
        "# Импортируем необходимые библиотеки"
      ]
    },
    {
      "cell_type": "code",
      "execution_count": 16,
      "metadata": {
        "id": "Ooa5zWUG2Eb9"
      },
      "outputs": [],
      "source": [
        "import pandas as pd\n",
        "import numpy as np\n",
        "import re\n",
        "import seaborn as sns\n",
        "import matplotlib.pyplot as plt\n",
        "import warnings\n",
        "warnings.simplefilter(\"ignore\")"
      ]
    },
    {
      "cell_type": "markdown",
      "metadata": {
        "id": "AV0kf7Zw2Eb_"
      },
      "source": [
        "# Загружаем набор данных"
      ]
    },
    {
      "cell_type": "code",
      "execution_count": 17,
      "metadata": {
        "colab": {
          "base_uri": "https://localhost:8080/",
          "height": 455
        },
        "id": "BYJjrKQ72EcB",
        "outputId": "ed8c9add-20ca-4607-f369-5d141093912f"
      },
      "outputs": [
        {
          "output_type": "stream",
          "name": "stdout",
          "text": [
            "<class 'pandas.core.frame.DataFrame'>\n",
            "RangeIndex: 10337 entries, 0 to 10336\n",
            "Data columns (total 2 columns):\n",
            " #   Column    Non-Null Count  Dtype \n",
            "---  ------    --------------  ----- \n",
            " 0   Text      10337 non-null  object\n",
            " 1   Language  10337 non-null  object\n",
            "dtypes: object(2)\n",
            "memory usage: 161.6+ KB\n"
          ]
        },
        {
          "output_type": "execute_result",
          "data": {
            "text/plain": [
              "                                                Text Language\n",
              "0   Nature, in the broadest sense, is the natural...  English\n",
              "1  \"Nature\" can refer to the phenomena of the phy...  English\n",
              "2  The study of nature is a large, if not the onl...  English\n",
              "3  Although humans are part of nature, human acti...  English\n",
              "4  [1] The word nature is borrowed from the Old F...  English"
            ],
            "text/html": [
              "\n",
              "  <div id=\"df-221c076b-2c2e-4b7e-b5c2-98e4924bca34\" class=\"colab-df-container\">\n",
              "    <div>\n",
              "<style scoped>\n",
              "    .dataframe tbody tr th:only-of-type {\n",
              "        vertical-align: middle;\n",
              "    }\n",
              "\n",
              "    .dataframe tbody tr th {\n",
              "        vertical-align: top;\n",
              "    }\n",
              "\n",
              "    .dataframe thead th {\n",
              "        text-align: right;\n",
              "    }\n",
              "</style>\n",
              "<table border=\"1\" class=\"dataframe\">\n",
              "  <thead>\n",
              "    <tr style=\"text-align: right;\">\n",
              "      <th></th>\n",
              "      <th>Text</th>\n",
              "      <th>Language</th>\n",
              "    </tr>\n",
              "  </thead>\n",
              "  <tbody>\n",
              "    <tr>\n",
              "      <th>0</th>\n",
              "      <td>Nature, in the broadest sense, is the natural...</td>\n",
              "      <td>English</td>\n",
              "    </tr>\n",
              "    <tr>\n",
              "      <th>1</th>\n",
              "      <td>\"Nature\" can refer to the phenomena of the phy...</td>\n",
              "      <td>English</td>\n",
              "    </tr>\n",
              "    <tr>\n",
              "      <th>2</th>\n",
              "      <td>The study of nature is a large, if not the onl...</td>\n",
              "      <td>English</td>\n",
              "    </tr>\n",
              "    <tr>\n",
              "      <th>3</th>\n",
              "      <td>Although humans are part of nature, human acti...</td>\n",
              "      <td>English</td>\n",
              "    </tr>\n",
              "    <tr>\n",
              "      <th>4</th>\n",
              "      <td>[1] The word nature is borrowed from the Old F...</td>\n",
              "      <td>English</td>\n",
              "    </tr>\n",
              "  </tbody>\n",
              "</table>\n",
              "</div>\n",
              "    <div class=\"colab-df-buttons\">\n",
              "\n",
              "  <div class=\"colab-df-container\">\n",
              "    <button class=\"colab-df-convert\" onclick=\"convertToInteractive('df-221c076b-2c2e-4b7e-b5c2-98e4924bca34')\"\n",
              "            title=\"Convert this dataframe to an interactive table.\"\n",
              "            style=\"display:none;\">\n",
              "\n",
              "  <svg xmlns=\"http://www.w3.org/2000/svg\" height=\"24px\" viewBox=\"0 -960 960 960\">\n",
              "    <path d=\"M120-120v-720h720v720H120Zm60-500h600v-160H180v160Zm220 220h160v-160H400v160Zm0 220h160v-160H400v160ZM180-400h160v-160H180v160Zm440 0h160v-160H620v160ZM180-180h160v-160H180v160Zm440 0h160v-160H620v160Z\"/>\n",
              "  </svg>\n",
              "    </button>\n",
              "\n",
              "  <style>\n",
              "    .colab-df-container {\n",
              "      display:flex;\n",
              "      gap: 12px;\n",
              "    }\n",
              "\n",
              "    .colab-df-convert {\n",
              "      background-color: #E8F0FE;\n",
              "      border: none;\n",
              "      border-radius: 50%;\n",
              "      cursor: pointer;\n",
              "      display: none;\n",
              "      fill: #1967D2;\n",
              "      height: 32px;\n",
              "      padding: 0 0 0 0;\n",
              "      width: 32px;\n",
              "    }\n",
              "\n",
              "    .colab-df-convert:hover {\n",
              "      background-color: #E2EBFA;\n",
              "      box-shadow: 0px 1px 2px rgba(60, 64, 67, 0.3), 0px 1px 3px 1px rgba(60, 64, 67, 0.15);\n",
              "      fill: #174EA6;\n",
              "    }\n",
              "\n",
              "    .colab-df-buttons div {\n",
              "      margin-bottom: 4px;\n",
              "    }\n",
              "\n",
              "    [theme=dark] .colab-df-convert {\n",
              "      background-color: #3B4455;\n",
              "      fill: #D2E3FC;\n",
              "    }\n",
              "\n",
              "    [theme=dark] .colab-df-convert:hover {\n",
              "      background-color: #434B5C;\n",
              "      box-shadow: 0px 1px 3px 1px rgba(0, 0, 0, 0.15);\n",
              "      filter: drop-shadow(0px 1px 2px rgba(0, 0, 0, 0.3));\n",
              "      fill: #FFFFFF;\n",
              "    }\n",
              "  </style>\n",
              "\n",
              "    <script>\n",
              "      const buttonEl =\n",
              "        document.querySelector('#df-221c076b-2c2e-4b7e-b5c2-98e4924bca34 button.colab-df-convert');\n",
              "      buttonEl.style.display =\n",
              "        google.colab.kernel.accessAllowed ? 'block' : 'none';\n",
              "\n",
              "      async function convertToInteractive(key) {\n",
              "        const element = document.querySelector('#df-221c076b-2c2e-4b7e-b5c2-98e4924bca34');\n",
              "        const dataTable =\n",
              "          await google.colab.kernel.invokeFunction('convertToInteractive',\n",
              "                                                    [key], {});\n",
              "        if (!dataTable) return;\n",
              "\n",
              "        const docLinkHtml = 'Like what you see? Visit the ' +\n",
              "          '<a target=\"_blank\" href=https://colab.research.google.com/notebooks/data_table.ipynb>data table notebook</a>'\n",
              "          + ' to learn more about interactive tables.';\n",
              "        element.innerHTML = '';\n",
              "        dataTable['output_type'] = 'display_data';\n",
              "        await google.colab.output.renderOutput(dataTable, element);\n",
              "        const docLink = document.createElement('div');\n",
              "        docLink.innerHTML = docLinkHtml;\n",
              "        element.appendChild(docLink);\n",
              "      }\n",
              "    </script>\n",
              "  </div>\n",
              "\n",
              "\n",
              "<div id=\"df-f2908c7a-8b4a-4edf-993c-f2814ccdb815\">\n",
              "  <button class=\"colab-df-quickchart\" onclick=\"quickchart('df-f2908c7a-8b4a-4edf-993c-f2814ccdb815')\"\n",
              "            title=\"Suggest charts\"\n",
              "            style=\"display:none;\">\n",
              "\n",
              "<svg xmlns=\"http://www.w3.org/2000/svg\" height=\"24px\"viewBox=\"0 0 24 24\"\n",
              "     width=\"24px\">\n",
              "    <g>\n",
              "        <path d=\"M19 3H5c-1.1 0-2 .9-2 2v14c0 1.1.9 2 2 2h14c1.1 0 2-.9 2-2V5c0-1.1-.9-2-2-2zM9 17H7v-7h2v7zm4 0h-2V7h2v10zm4 0h-2v-4h2v4z\"/>\n",
              "    </g>\n",
              "</svg>\n",
              "  </button>\n",
              "\n",
              "<style>\n",
              "  .colab-df-quickchart {\n",
              "      --bg-color: #E8F0FE;\n",
              "      --fill-color: #1967D2;\n",
              "      --hover-bg-color: #E2EBFA;\n",
              "      --hover-fill-color: #174EA6;\n",
              "      --disabled-fill-color: #AAA;\n",
              "      --disabled-bg-color: #DDD;\n",
              "  }\n",
              "\n",
              "  [theme=dark] .colab-df-quickchart {\n",
              "      --bg-color: #3B4455;\n",
              "      --fill-color: #D2E3FC;\n",
              "      --hover-bg-color: #434B5C;\n",
              "      --hover-fill-color: #FFFFFF;\n",
              "      --disabled-bg-color: #3B4455;\n",
              "      --disabled-fill-color: #666;\n",
              "  }\n",
              "\n",
              "  .colab-df-quickchart {\n",
              "    background-color: var(--bg-color);\n",
              "    border: none;\n",
              "    border-radius: 50%;\n",
              "    cursor: pointer;\n",
              "    display: none;\n",
              "    fill: var(--fill-color);\n",
              "    height: 32px;\n",
              "    padding: 0;\n",
              "    width: 32px;\n",
              "  }\n",
              "\n",
              "  .colab-df-quickchart:hover {\n",
              "    background-color: var(--hover-bg-color);\n",
              "    box-shadow: 0 1px 2px rgba(60, 64, 67, 0.3), 0 1px 3px 1px rgba(60, 64, 67, 0.15);\n",
              "    fill: var(--button-hover-fill-color);\n",
              "  }\n",
              "\n",
              "  .colab-df-quickchart-complete:disabled,\n",
              "  .colab-df-quickchart-complete:disabled:hover {\n",
              "    background-color: var(--disabled-bg-color);\n",
              "    fill: var(--disabled-fill-color);\n",
              "    box-shadow: none;\n",
              "  }\n",
              "\n",
              "  .colab-df-spinner {\n",
              "    border: 2px solid var(--fill-color);\n",
              "    border-color: transparent;\n",
              "    border-bottom-color: var(--fill-color);\n",
              "    animation:\n",
              "      spin 1s steps(1) infinite;\n",
              "  }\n",
              "\n",
              "  @keyframes spin {\n",
              "    0% {\n",
              "      border-color: transparent;\n",
              "      border-bottom-color: var(--fill-color);\n",
              "      border-left-color: var(--fill-color);\n",
              "    }\n",
              "    20% {\n",
              "      border-color: transparent;\n",
              "      border-left-color: var(--fill-color);\n",
              "      border-top-color: var(--fill-color);\n",
              "    }\n",
              "    30% {\n",
              "      border-color: transparent;\n",
              "      border-left-color: var(--fill-color);\n",
              "      border-top-color: var(--fill-color);\n",
              "      border-right-color: var(--fill-color);\n",
              "    }\n",
              "    40% {\n",
              "      border-color: transparent;\n",
              "      border-right-color: var(--fill-color);\n",
              "      border-top-color: var(--fill-color);\n",
              "    }\n",
              "    60% {\n",
              "      border-color: transparent;\n",
              "      border-right-color: var(--fill-color);\n",
              "    }\n",
              "    80% {\n",
              "      border-color: transparent;\n",
              "      border-right-color: var(--fill-color);\n",
              "      border-bottom-color: var(--fill-color);\n",
              "    }\n",
              "    90% {\n",
              "      border-color: transparent;\n",
              "      border-bottom-color: var(--fill-color);\n",
              "    }\n",
              "  }\n",
              "</style>\n",
              "\n",
              "  <script>\n",
              "    async function quickchart(key) {\n",
              "      const quickchartButtonEl =\n",
              "        document.querySelector('#' + key + ' button');\n",
              "      quickchartButtonEl.disabled = true;  // To prevent multiple clicks.\n",
              "      quickchartButtonEl.classList.add('colab-df-spinner');\n",
              "      try {\n",
              "        const charts = await google.colab.kernel.invokeFunction(\n",
              "            'suggestCharts', [key], {});\n",
              "      } catch (error) {\n",
              "        console.error('Error during call to suggestCharts:', error);\n",
              "      }\n",
              "      quickchartButtonEl.classList.remove('colab-df-spinner');\n",
              "      quickchartButtonEl.classList.add('colab-df-quickchart-complete');\n",
              "    }\n",
              "    (() => {\n",
              "      let quickchartButtonEl =\n",
              "        document.querySelector('#df-f2908c7a-8b4a-4edf-993c-f2814ccdb815 button');\n",
              "      quickchartButtonEl.style.display =\n",
              "        google.colab.kernel.accessAllowed ? 'block' : 'none';\n",
              "    })();\n",
              "  </script>\n",
              "</div>\n",
              "\n",
              "    </div>\n",
              "  </div>\n"
            ]
          },
          "metadata": {},
          "execution_count": 17
        },
        {
          "output_type": "display_data",
          "data": {
            "text/plain": [
              "<google.colab._quickchart_helpers.SectionTitle at 0x7b930a3a95a0>"
            ],
            "text/html": [
              "<h4 class=\"colab-quickchart-section-title\">Categorical distributions</h4>\n",
              "<style>\n",
              "  .colab-quickchart-section-title {\n",
              "      clear: both;\n",
              "  }\n",
              "</style>"
            ]
          },
          "metadata": {}
        },
        {
          "output_type": "display_data",
          "data": {
            "text/plain": [
              "from matplotlib import pyplot as plt\n",
              "import seaborn as sns\n",
              "_df_0.groupby('Text').size().plot(kind='barh', color=sns.palettes.mpl_palette('Dark2'))\n",
              "plt.gca().spines[['top', 'right',]].set_visible(False)"
            ],
            "text/html": [
              "      <div class=\"colab-quickchart-chart-with-code\" id=\"chart-d375a5ec-affe-4309-be90-7890fbd723b8\">\n",
              "        <img style=\"width: 180px;\" src=\"data:image/png;base64,iVBORw0KGgoAAAANSUhEUgAABkEAAAGZCAYAAAA+WJbwAAAAOXRFWHRTb2Z0d2FyZQBNYXRwbG90\n",
              "bGliIHZlcnNpb24zLjcuMSwgaHR0cHM6Ly9tYXRwbG90bGliLm9yZy/bCgiHAAAACXBIWXMAAA9h\n",
              "AAAPYQGoP6dpAACMVElEQVR4nOzdfXzO9f////tsGmEknb15F8LY6bHZxta2nCxD8kYi50MkFYqi\n",
              "crIkKTJFNb0Vbycrb/GWIt6G5WzY2GGE5bQThT7MTMY29vtjv72+O7bjOHZsSB3v2/VycbnYcbxO\n",
              "nq/X8+T1Ol6P1/P5dCkoKCgQAAAAAAAAAACAk6l0qxMAAAAAAAAAAABwMxAEAQAAAAAAAAAATokg\n",
              "CAAAAAAAAAAAcEoEQQAAAAAAAAAAgFMiCAIAAAAAAAAAAJwSQRAAAAAAAAAAAOCUCIIAAAAAAAAA\n",
              "AACnRBAEAAAAAAAAAAA4JYIgAAAAAAAAAADAKREEAQAAAAAA/9Pee++9W50EAABwkxAEAQAAAAAA\n",
              "/9N++OGHW50EAABwkxAEAQAAAAAAAAAATokgCAAAAAAAAAAAcEoEQQAAAAAAAAAAgFMiCAIAAAAA\n",
              "AAAAAJwSQRAAAAAAAAAAAOCUCIIAAAAAAAAAAACnRBAEAAAAAAAAAAA4JYIgAAAAAAAAAADAKREE\n",
              "AQAAAAAAAAAATokgCAAAAAAAAAAAcEoEQQAAAAAAAAAAgFMiCAIAAAAAAAAAAJwSQRAAAAAAAAAA\n",
              "AOCUCIIAAAAAAAAAAACnRBAEAAAAAAAAAAA4JYIgAAAAAAAAAADAKbkUFBQU3OpEAAAAAAAA3Cp+\n",
              "HT0U2u+OW50MAACcztxeP9zqJNATBAAAAAAAAAAAOCeCIAAAAAAAAAAAwCkRBAEAAAAAAAAAAE6J\n",
              "IAgAAAAAAAAAAHBKBEEAAAAAAAAAAIBTIggCAAAAAAAAAACcEkEQAAAAAAAAAADglAiCAAAAAAAA\n",
              "AAAAp0QQBAAAAAAAAAAAOCWCIAAAAAAAAAAAwCkRBAEAAAAAAAAAAE6JIAgAAAAAAAAAAHBKBEEA\n",
              "AAAAAAAAAIBTIggCAAAAAAAAAACc0k0Lgri4uMjX11dr1qyRJKWkpCgsLEy33367unTpYrHs0qVL\n",
              "5eXlpVq1apXazsSJE2UymWQymVS9enU1aNDA+DsjI0P169eX2Wy+WYdxQ1y8eFEuLi43dJtJSUla\n",
              "u3btDd2mNampqerZs2e51vkr5ElZxowZo9jYWKvfffnll2rWrJlMJpP27dv3h6SnZH6fOHHCan2p\n",
              "iK+//lrBwcHy9PRUw4YNNWzYMF24cMH43l5+du/eXQsWLLD6XVEbUFRfJ06ceEPSWxYXFxedP3/+\n",
              "pm3fbDbr888/v2nbv9HstT/x8fGaPn36Tdl2Wa5339YEBQUpKSnJ6neTJk1S06ZN1aJFixu6T3sW\n",
              "LFigQ4cOWfxd8vpXEa1atdLKlSuvKy2rVq3SCy+8cN1pudG+/vprtWrV6oZus+Sx/xW0atVKJ06c\n",
              "UExMjM0y/Uc7ceKE4uPjLT7r2LGjMjIyylz3j7wvKHl9NJlMys7OliTNmjVLp06dMr67Ge1Qkaee\n",
              "ekqbNm26KduWbux9YPFr+cSJE7VkyZIbsl1HFL/PPH/+vKZNm2bx/Y04j0X1KDY21uY9y80wZ84c\n",
              "xcTEWP3O0bpzsxWvHxVVsl6VFBsbq8uXLxt//9FlzJbi94vF8+NmXjOK7/Ov+HuprLyuX7++pP93\n",
              "DSv6v617lrLqd8myExMTo1mzZllddsGCBYqNjVVSUpLNegcAAP63ud3MjW/ZssX4IXrfffdp1qxZ\n",
              "SktL0zfffGOxXM+ePdWiRQuZTKZS25g8ebImT54sqfAmatSoUTfkIdLNcu3aNUlSpUo3t5NNUlKS\n",
              "zp8/r/bt25d73fz8fLm5OZb1QUFBWrp0abn3cb1KprE8ab7Z4uPjNXHiRPXq1avUdzcrndeT3/as\n",
              "XbtWTz/9tL7++msFBAQoPz9fL7zwgjp16qRvv/32uoN3xduAkv6ounKjmc1mrVy5Uk8++WS51/0z\n",
              "lWNJGjZs2C3Zb35+/h++73feeUfHjh3TfffdZzU9NyNfFixYoFq1aqlp06Y3fNvXm5bOnTurc+fO\n",
              "tzRNf1R9uJ58+CPS+GdrF2wpCoIUr7tFL7r8mRV/yDhr1iy1atVK9957r6Sb2wbOmzfvpm1bunn3\n",
              "BUX33H+U4veZRUGQcePGGd/f7PN4q/xZ6s6NeAhfsl6V9Prrr2vUqFGqUqWKpD++jDmieH5U9Jrx\n",
              "V72vLY+y8rq8bNXvoutiybIDAABwPf6wu7R69eopJCRE7u7uN3zbK1asUGhoqBo0aKApU6YYn586\n",
              "dUo9evRQSEiIfH19NX78eKvrh4WFafv27ZKkl19+WXXr1jW+a9iwoX788UdJ0vTp0+Xt7S1fX1/1\n",
              "6dNHWVlZkgrfUnn88ccVHR0tHx8f/frrr5o7d64aN26sgIAAxcXF2Ux7bGysevbsqccee0xeXl5q\n",
              "06aNzp07J0nat2+fwsPDFRgYKC8vL+PYzGaz4uPjtWTJEplMJk2ePLnUm48l39B2cXHRpEmTFBwc\n",
              "rFdeeUXZ2dkaMmSIQkJC5Ofnp6FDhyo3N7dU+pKSkozg1G+//aZ27drJ19dXfn5+GjhwoM3jWrJk\n",
              "iZo3b65GjRpZvGWZmpqqsLAw+fn5KSQkRNu2bZP0/97cHDt2rAIDAzVnzhy1atVKI0aMUGhoqNq1\n",
              "a6erV6/qpZdeko+Pj3x8fPT8888rNzdXv//+u2rXrq28vDxJUkhIiHr37i1J+vHHH/Xggw9KkvLy\n",
              "8jRu3DiFhITIZDKpR48eyszMlCT9+uuvio6OlpeXl6KiovTzzz9bPa4RI0Zoy5YtevXVVxUWFmb1\n",
              "3J45c0bdunWTr6+vfHx8NHfuXGP9+vXra/z48QoLC9Pf//53xcfHa/78+QoNDVX9+vWt9jCwlt9F\n",
              "Jk2aZJzn4j/gUlJS1KZNGwUFBSkgIEDLli2zejxTpkzRa6+9poCAAEmSm5ub3n33XR07dszqm1mH\n",
              "Dh1SWFiYvL291aVLF4seI46wVlfWrVun8PBwNW/eXCEhIcZ+k5KS5OPjo+HDh8vf31/e3t5KTU01\n",
              "trV69WoFBwfL399fJpNJO3fuNL778MMPFRISogYNGmj+/PlW07JgwQJFRUWpV69e8vX1VVBQkI4d\n",
              "OyapsO1o3bq1mjdvLm9vbz333HO6du2azpw5o4kTJ2rTpk0ymUzGA7SSvU/q1KljvAFXv359jR07\n",
              "ViEhIRowYIDdclhcfn6+oqOjFRQUJG9vb/Xu3Vu///67Q+emPO3PqFGjJEk7duxQ8+bNZTKZ5OPj\n",
              "o48++sjqOva2bavcWavfxffdpEkTi/QvWLBAXbt2NfLCVju+fft2I70DBw5Ufn6+1TSHhYXp8uXL\n",
              "ateunUaMGKGkpCR5e3tr8ODBMplM+s9//lNm2zRhwgQFBgaqcePG2rZtm1544QVj3/v37y+1z3nz\n",
              "5ik1NdVYrqh+Xrx40WqZk6RFixapRYsWCgwMVGRkpPbu3Wsz76xJSEhQixYtFBAQIH9/f3311Vc2\n",
              "01K8V0pZ5amIo23txYsXNWjQIKOtfv31141tlGzX8/LyNHz4cDVu3Nii/lvTqlUrjRkzRhEREXrw\n",
              "wQctHmBX9Ngly94n1sqGrW2X5ciRI4qKipKfn59MJpPFm7Alrxsl1a5dW66urqpZs6Zuu+02SbJ7\n",
              "3Z4yZYrRQ9FkMumHH35QTk6OevbsKS8vL/n7+6tdu3bG9m2VNXvt4rBhw5SRkSGTyWQE0Iq/yTxz\n",
              "5kwFBwfLZDIpODhYycnJDp2n2NhYNW7cWM2bN9f48eONN4nLuq/p06ePgoKC5Ofnp0cffdTm28lF\n",
              "7fPkyZP1yy+/qGfPnjKZTDKbzRbtkCTNmDFDISEhCgwMVPv27fXDDz9Ikr766isjH318fPTll1+W\n",
              "eVzF336OiYnR008/rbZt26pJkybq1q2bkXc36j5Qks3raUn2ruXF37S2ddytWrXS888/r+DgYDVq\n",
              "1EijR49WQUGBJNvl3lZ5LH6fOWzYMGVnZ8tkMikoKKjUeSzr/mrixIlWfw8U1aPq1auratWqZebd\n",
              "hg0bFBoaqoCAAHl7e+uTTz6xOD+28jI7O1s9e/aUp6enwsPD7fYWLl537LVtxV3PfYGte6bi9y+H\n",
              "Dx/Wo48+quDgYPn5+WnOnDnG+i4uLpo6dWqpeytr9aq4omOJiIiQyWTSmTNnLMpYbGysevToocce\n",
              "e0xNmjRRp06dtH//fkVHR6tJkybq1auXEVwobxtYHkX5YevabattsHZfO2bMGKMtjIyMLLPHT2pq\n",
              "qpo2bWrUIanwvqXkS4NSYfkbOnSooqKi1KBBAw0aNEi7du1Sq1at1LBhQ7344ovGsvbun+ylsaJ5\n",
              "LUl33XWXpP93DSuyYcMGq+1FyXZy0KBBioyMlI+Pj9WyI0kHDx60Wv+qVq2q6tWr67bbblPNmjXt\n",
              "nnMAAPC/ySleVTl//rySk5OVkpKi6dOn6+TJk5KkAQMG6Nlnn9WuXbuUlpam1NRUqw+Do6KilJiY\n",
              "KEnauHGj6tWrpwMHDujo0aNyc3PT/fffr2+++Uaffvqptm3bpn379qlatWoWb6olJydr4cKFOnDg\n",
              "gDIzMzVp0iRt3rxZaWlpysnJsZv+nTt3asGCBTpw4IDuvvtu40dd/fr1tWHDBu3Zs0e7d+/W8uXL\n",
              "tWPHDuPha58+fWQ2mx0eZsjV1dU4R6NHj1ZERIR27dqlvXv36tq1a3rvvffsrr948WI1aNBA+/bt\n",
              "U3p6ut59912by54+fVqpqanasWOHZs+ere3btys3N1fdunXTpEmTlJ6erpkzZ+rxxx/XxYsXJUlZ\n",
              "WVny9vbWnj17jIcS33//vTZv3qyNGzfq448/VkpKinbv3i2z2ayjR48qLi5O1apVk4+Pj5KTk5WZ\n",
              "manc3FylpKSooKBA69evV9u2bSUVBrGqVaumXbt2yWw2W/wgGDFihEJCQnTgwAH961//0oYNG6we\n",
              "1/vvv6+goCDFxcUZgbOS5/b555+Xp6en9u3bp40bN2rKlCnasWOHsezvv/+u7du3a9OmTXrhhRd0\n",
              "8uRJJScna9myZXr++edL7dNWfmdlZcnPz0+7d+/WnDlzjKFtzp8/r6FDh2rJkiVKTU3V+vXrNXr0\n",
              "aKNeFLdnzx6FhoZafHbbbbepefPm2r17d6nl+/Xrp8GDB+u7777TG2+8oW+//dZ6Afj/Ff1wKf6D\n",
              "u3hduXLlimJjY7VmzRrt3r1bCQkJ6t27t65cuSKp8EHNgAEDtHfvXj3//PN67bXXJBWWi4EDB2rR\n",
              "okXau3evUlJSLN7Yc3d3165du/TNN99oxIgRNh+Op6SkaOrUqdq3b5+ioqL09ttvS5Jq1aqlr776\n",
              "Srt371Z6erpOnDihf//737r77rs1efJktW7d2ngI5YizZ89q586dWrJkid1yWJyrq6sSEhKUmpqq\n",
              "/fv3q2bNmpo9e7bxva1zs3///nK1P0XeeustjRkzRmazWfv377fa08Xetssqd9bqd5GYmBiLIUrm\n",
              "z5+vQYMGSbLdjufm5qpnz56aMWOG9u/fr169etkMGhTV1S1btuj999+XVPgjun///jKbzfrHP/5R\n",
              "ZtvUvHlz7dmzR+PGjVN0dLQ6d+4ss9msAQMGWDzkL/LUU08ZbYXZbFbHjh0l2S5z27Zt02effabN\n",
              "mzdrz549evPNN40Ag6Oio6O1Y8cOpaWl6csvv9SQIUN05coVm2kpzlZ5Ks7RtvaNN97QlStXlJ6e\n",
              "rp07d2rlypUWPQpLtusZGRn67rvvtHXrVu3Zs8fuMR49elSbNm3S/v37tW7dOuNB+/Uce0nFy8YT\n",
              "Tzxhc9tl6dOnj5544gmlp6dr2bJlGjx4sMWDueLXjZJWrFihv//973rvvfeMgLut63ZmZqZmzJih\n",
              "PXv2yGw2a/v27brnnnu0du1anT9/XgcOHNDevXuNIHtZZc1WGY2Pj5enp6fMZrNWrVpVKs39+vVT\n",
              "SkqKzGazZs+ebfdFiSKrV6/WsmXLtHv3bqWmphrBY0fMmjVLqampSk9PV0REhM0hLItMnDhRf/vb\n",
              "37R06VKZzeZSvY8TEhKUkZGh5ORk7dmzR3369NHw4cMlSePHj9fcuXNlNpuVnp6uhx9+2OF0FjGb\n",
              "zfrqq6908OBBnT59WsuXLze+uxH3gceOHbN7PS3O0Wu5veM+cOCAtm/frvT0dH377bf67LPPJNku\n",
              "97bKY3Hx8fGqUaOGzGaz1UBsWfdXtn4PFNWjMWPGODTEa2BgoLZu3aq0tDRt2bJFkydPtng5xlZe\n",
              "Tp48We7u7jp06JBWr16tzZs3l7mvIrbatuIqel9Q1j2TJF29elW9evXSu+++q5SUFO3YscO47y5i\n",
              "7d6qrHpVdJ+0ZcsWmc1m3X333aWOKzU1VQsXLlRGRoays7P11FNP6YsvvtCBAwd08OBBIxhQ3jaw\n",
              "IqxdM+y1DZLlfW3dunU1duxYoy0cPny4Ro4caXefQUFBuvPOO7V+/XpJUlpamn777Tebvbz27dun\n",
              "r7/+WhkZGdq8ebPeeustrV+/Xvv27dOSJUv03XffSbL/O7isNFYkryUZ5aXoGlbEVntR0u7du7V6\n",
              "9WodOnTIZtmxVf969uypMWPGKCwsrMzftEWuXLmiCxcuWPy7dq2g7BUBAMBf0p9//AUHFP14r1On\n",
              "jho2bKjjx4+rVq1a2rBhg06fPm0sd/HiRatv40RFRWn8+PEaPny43Nzc9MQTTygxMVHu7u7GQ53E\n",
              "xET17NnTeCvxmWee0RNPPGFso2PHjsYN98aNG9WhQwdj2JVnnnlGb731ls30t2/fXnfeeackKTQ0\n",
              "1HhzLCcnR8OHD5fZbFalSpX0008/yWw2q2XLlhU6T0UPFSVp5cqVSk5O1syZM419FX9jx5qWLVsq\n",
              "Li5Oo0ePVmRkpN0hGAYPHiwXFxfVqVNH3bp1U2JiomrUqKFKlSopOjpakhQeHq577rlHZrNZ9erV\n",
              "U+XKldW3b1+L7fTt21eVK1eWVJgHMTExRm+iIUOG6IMPPtDYsWONQFZRb5WDBw9q3759SkxMNN74\n",
              "XblypbKysoyb5dzcXOON0w0bNmjGjBmSpLp165Z7mJji5zYxMdEIINx9993G8RflW9EP8EaNGqlK\n",
              "lSrq3r27pMIfQefOndP58+cdmu+jSpUq6tatm6TCcnP06FFJhQ98jx07pg4dOlgsn5GRYdHLqbwu\n",
              "XLggs9lsjLPr6+ur8PBwu+uUHA7rm2++sagra9eu1ZEjRxQZGWksU6lSJaP3VaNGjYw5HEJDQ408\n",
              "Wr9+vdq3b2/8iK9cubLFW199+vSRJDVt2lRubm46deqU6tWrVyp9RW+MFv2/6GHCtWvXNHbsWG3d\n",
              "ulUFBQU6c+aMfHx8KjQEllT4kL/oDWZ75bC4goICxcXFafXq1crPz1dWVpbxMNTeuSlv+1OkdevW\n",
              "euONN3T48GG1adPGat7a27a9ctewYUOr9btI//79FRAQoHfffVcnT57U999/rw4dOuj333+32Y4f\n",
              "OnRIbm5uioqKkiS1a9dODRs2LPM4izRs2NB4oJeRkWG3bapSpYrRjgQFBal69epq3bq1pMLeEOUZ\n",
              "29xWmfvyyy+1d+9eizlLzp07p5ycHIfeXJak48ePq0+fPvr555/l5uamc+fO6fjx4w4N6WGrPJXk\n",
              "SFubmJiod999V5UqVVK1atXUv39/rV+/3mj7irfrGzZsUP/+/Y3eDoMGDbJ467qknj17ys3NTW5u\n",
              "bjKZTDp69KhCQ0Ov69hLKl42pIqd1+zsbO3Zs8foUdS4cWOFh4dry5YteuCBB4xjLQ9b120PDw81\n",
              "btxYffv2Vbt27fToo4+qXr168vf318GDBzV8+HA9/PDDRgDIXlmTbJfRsqSlpenNN9/U2bNn5ebm\n",
              "poyMjDLL74YNG9SjRw95eHhIkp5++mlt3brVof0lJCRo0aJFunz5si5fvqw6deo4tJ4tK1euVEpK\n",
              "ipo3by6p8KFwkbZt22rkyJHq3r272rVrZ/XhX1m6du2q22+/XVJhu1F0zZZuzH2gvetp48aNjc/K\n",
              "cy23d9z9+/dX5cqVjbY9MTFRjz32mM1yHxYWZrU8lkdZ91fWfg9U5L7n7NmzGjx4sL7//nu5ubnp\n",
              "7Nmz2r9/v3EfYSsvN2zYoLi4OLm4uKhmzZrq3bu3RT7bY6ttK66i9wVl3TNJMoLRxe9zsrOzdeDA\n",
              "AQUHB0ty/N6qvNq1a6c77rhDUmEAyt3dXTVq1JAkBQQE6PDhw5LK3wbeKPbaBsnyN6BUeL5nz56t\n",
              "7OxsXbt2zejZZc/IkSM1Z84ctWvXTh988IGGDx9uc0jaf/zjH8bwUL6+voqOjjbqopeXlw4fPmwE\n",
              "UG39Di4rjTc6r621F9Ze9HjiiSeMvLfFXltaXm+99VapF1nubnRbhbcHAAD+3JwiCFJ8nFBXV1fl\n",
              "5+cb3Wx37NhR5jiioaGh2r9/v7788ku1adNGUVFRmjBhgtzd3W2+MVbyxrR69eo2t1/WvArW0i9J\n",
              "r776qurUqaO0tDS5ubmpW7duFpPDFefm5mZxU25tueJpLCgo0PLly9WkSRO7aSsuNDRUZrNZiYmJ\n",
              "WrFihSZMmKC0tLQygyeS7XNQ/PPbb7+91Di6jp7XqKgojRkzRr/99pu6du2qunXrav369dq0aZPx\n",
              "5ndBQYFmz55tMSRIedNrS3nyv2R+F/3t4uIiFxcXm70WSnJ3dze27erqauR/QUGBvL29LXqq2BIY\n",
              "GKjk5GRjOCyp8KH87t27NWLEiDLXr8icISXL4SOPPKKEhIRSy508edJm3SiLo+vZWm7mzJk6c+aM\n",
              "du7cqSpVqujFF1+0WfeK1rVX/0oesyPlMCEhQRs3btS3334rDw8Pvf/++9q4cWO5j9HRPBo1apT+\n",
              "8Y9/KDExUa+++qp8fHz04Ycf2l2n+LbtlbsTJ05Yrd9F6tWrp6CgIH355Zf67rvv1LdvX7m5uRnn\n",
              "0Vo7np6ebjc9ZbFXZ0tuq/gwjsXrbNHfjpZLyXa+FRQUaMCAAZo6darD2yrpySef1LRp04zAau3a\n",
              "te2WW0fSVZIjbW1Jf8T1sjzHXtb1smT6rue8Flee82CNvev2jh07tH37diUlJally5b67LPPFBER\n",
              "oQMHDmjjxo1KTEzUyy+/LLPZXGZZq0j5LurpuWnTJgUHB+vChQuqWbOmrly54nAQT7I8R/byaevW\n",
              "rXr//feVnJysu+++W6tWrXK4V6wtBQUFeuWVVzR06NBS382cOVPfffedNm3apAEDBqhPnz56+eWX\n",
              "y7V9e+f1RtwH2ruelsVWvSvPcZd1n9ewYUOr5fF6lHV/VZ62ubhhw4apY8eOWr58uVxcXBQYGGhx\n",
              "3m/09dfRbd6o+wJrCgoKVLt2bbt5cqPOb1nbtXedLG8beCPYaxsky7b8xx9/1HPPPaeUlBQ9+OCD\n",
              "Sk9PtwhM2tKtWze9/PLLSktL06pVq2y+iCA5dr7s/Q52JI03K6+L2KobjlwXb2TaXnnlFYshxCQp\n",
              "rEfFXxgDAAB/bk4xHJY1RW/qTps2zfjsl19+sTrXQ+XKldWyZUu98cYbxjjGBw4cUFJSktq0aSOp\n",
              "8MHPv//9b2Pc5Llz59p8iNmmTRutXbvWGJ/a0SFzSsrMzFS9evWMNyqLuklLkoeHhzEniSTde++9\n",
              "Kigo0IEDByRJCxcutLvtLl266O233zZuHDMzM3XkyBG76xw/flzVq1dXjx49NHv2bH3//ffGcDEl\n",
              "FQ1tc+7cOf3nP/9R27Zt5enpqWvXrhnHsX37dp06dcrhNyqjoqK0cOFC5ebmKj8/X/PmzTPyICQk\n",
              "xDhHERERioqK0uzZs3Xvvfca49N26dJFcXFxunTpkiTp0qVLRpfxqKgoffrpp5IK5wexNtSHo6Ki\n",
              "ovTPf/5TUuE8KitWrNAjjzxS4e1JpfPbnrCwMB0/ftwY4k0q7Dpubc6XV199VVOmTDF+9Obn52v0\n",
              "6NGqX7++UfaLpyEgIMAoW0XD11yP6OhoJSYmWjzQ3rVrl0PrrVu3TocOHZJUON+Lo+fHEZmZmbr3\n",
              "3ntVpUoVnTp1ymIYPWt50ahRI2O4rxUrVhhjdFtjrxyWTEOdOnXk4eGh7Oxsi+Gi7Klo+5ORkaEG\n",
              "DRpoyJAhevXVVy2GGHFk2+Upd9YMHDhQn376qRYuXGi8IW+vHW/atKny8/ONMe8TExMr/Dbg9bZN\n",
              "tpSn3nbu3FmLFy82ekFdu3bN6nAw9mRmZhpv8C9evNhirpnypMUeR9raqKgoffLJJyooKNDvv/+u\n",
              "RYsW2bxeRkVFafHixcrLy1Nubq7NOXzKUp5jb9SokdLT05WTk6P8/PwyHxrb2/acOXOszulRo0YN\n",
              "BQYGGsdz5MgRbd261aGHYbbYum5nZ2fr9OnTioiI0IQJExQeHq60tDT9/PPPcnFxUefOnTVjxgwV\n",
              "FBTop59+qnBZs1eGLl++rNzcXN1///2S5HDvkaioKC1btkzZ2dkqKCjQxx9/bHxn774mMzNTNWrU\n",
              "0J133qnc3FyLuSEqegxdunRRfHy88UZ0Xl6e0tLSJBUOM1Q0P9QzzzxjtI+28v9GKc99oKPX0/Jc\n",
              "y20dtySj3ubk5CghIUFRUVF2y72t8lgybTk5OTavGzfy/mrXrl1Gb++SMjMz9cADD8jFxUWbN292\n",
              "eH6mqKgozZ8/XwUFBbpw4YLNIX8qqqL3BY7cM3l6esrDw8OiDT5y5IhDvRjKur7UqFHjhlx/ytsG\n",
              "SoU9EP7zn/+Uaz8lj8de21BSVlaWKleurPvuu08FBQUW86rY4+bmpmHDhqlz587q2rWrQz3C7bF3\n",
              "/1TRNEoVv5ew1l444kaVHVvc3d3l4eFh8a9SpfK/4AUAAP4a/rAgSEZGhurVq6cXX3xR69atU716\n",
              "9cp8y/h6LVmyREeOHJGPj498fX3VrVs3nT171uqyUVFROnPmjB566CG5uLgoJCRE999/v2rXri1J\n",
              "6tChgwYOHKjQ0FD5+vrqwoULNoeY8fHxUWxsrCIiIhQQEFDhyeDHjx+v+fPny8/PT+PGjbN4KN21\n",
              "a1djPNbJkyfLzc1Ns2fPVqdOnRQcHGxMXGtLXFycqlatKpPJJD8/P7Vt27bMsbiTkpKMiZPDwsI0\n",
              "ffp0mxPP3XXXXcbEnM8995zCwsJ02223acWKFZo0aZL8/Pw0atQoffHFFw6/DTt06FAFBgYqMDBQ\n",
              "JpNJ9evXN+YWcHNz00MPPaT7779fVatWlbe3t/Ly8ix+4I4dO1bBwcFq0aKF/Pz81LJlS+Ph/3vv\n",
              "vacdO3bIy8tL/fv3LxUAKI/3339fBw8elK+vr1q3bq3XXnvNYtiRiiiZ3/bccccdWr16taZOnSp/\n",
              "f395eXlp3LhxxsSSxXXs2FEfffSRBg8eLE9PTzVp0kRXrlzR6tWrrb6ltXDhQn388cfy8fHR+PHj\n",
              "r+uBnlT4MDIhIUFPP/20/P391axZM2OyzLLWmz9/vvr27St/f3+1aNGizIkny2PkyJHauXOnvL29\n",
              "1a9fP4sfa23bttWVK1fk5+dnTNoYFxenkSNHKjAwUGlpacawJtbYK4fF9e/fX5cuXZKnp6c6dOjg\n",
              "8BuNFW1/5syZI29vbwUEBGj8+PFW5/yxt+3ylDtr/vGPfyglJUX33HOPmjVrZnxuqx2/7bbbtHTp\n",
              "Ur3wwgvy9fVVQkKC/P39HdpXSdfbNtkydOhQTZ061WJyVVsiIiL0zjvvqGvXrsakttbGzC/y1FNP\n",
              "qV69esa/5ORkvffee+revbsCAgKUlpZmPJAub1rscaStnTBhgipXrixfX1+1aNFCnTt3Vo8ePaxu\n",
              "b8iQIWrcuLG8vLwUHh5e4cBTeY69ZcuW6tixo3x8fNSqVSuLoYLKu+0DBw7YrO9LlizR0qVL5e/v\n",
              "r+7du2vevHkW65aXret2VlaWMVm0n5+f8vLyNGDAAO3bt08PPfSQ/P39FRAQoH79+snPz6/cZa2I\n",
              "n5+fvL295ePjU2rISA8PD02ZMkUhISFq3ry5MbxZWTp27Kju3bsrMDBQQUFBFufH3n1N+/bt5enp\n",
              "KU9PT2PuKUeMGDFCQ4YMsTqpb58+fRQTE6PWrVsbk0cXvWX/6quvGu3jokWLjPlH7OX/jVCe+8Dy\n",
              "XE8dvZbbOm5JatasmR566CH5+voqIiLCGEbJVrm3VR6Lq127tvr37y8/Pz9jYvTibuT91YkTJ2z2\n",
              "Upo2bZrGjRsnk8mkTz/91OF9TJgwQTk5OWratKk6duxY5pCh5VXR+wJH7pnc3Nz09ddfa8WKFUZd\n",
              "Hzx4sEPzitmrV1LhXB6PPPKIxeTWFVHeNlAqnG+k+NwUjih5zbDXNpTk6+urJ598Ut7e3goODi5X\n",
              "mz948GCdPHlSzz33XLnSa4ut+6frSWNZeW2LrfaiLDei7JhMJv3yyy8VWhcAADgXl4Ki/rI3esMu\n",
              "LsrMzHT4TZYTJ07IZDLp/PnzNyM5AAAAN1R4eLi++eabMscwh2P279+vTp06lWuC9FvpfzX/W7Vq\n",
              "pVGjRhnzAP0VPfvss+rVq9cND1Tgz+O3335T7969LXpQ/Zl98cUX+uijj7Rhw4ZbnZT/aX4dPRTa\n",
              "745bnQwAAJzO3F4/3Ook3Lw5Qe655x49/PDDeuutt8qc/HDp0qWaMmWKxaRyAAAAf2bXOyQg/trI\n",
              "/7+uDz744FYnATfZXXfd9ZcJgLRv317ff/99uYfuAgAAgONuWk8QAAAAAACAvwJ6ggAAcHP8GXqC\n",
              "OO3E6AAAAAAAAAAA4H8bQRAAAAAAAAAAAOCUCIIAAAAAAAAAAACnRBAEAAAAAAAAAAA4JYIgAAAA\n",
              "AAAAAADAKREEAQAAAAAAAAAATokgCAAAAAAAAAAAcEoEQQAAAAAAAAAAgFMiCAIAAAAAAAAAAJwS\n",
              "QRAAAAAAAAAAAOCUCIIAAAAAAAAAAACn5HarEwAAAAAAAHArRTV9SjN7zbzVyQAAADcBPUEAAAAA\n",
              "AAAAAIBTIggCAAAAAAAAAACcEkEQAAAAAAAAAADglAiCAAAAAAAAAAAAp0QQBAAAAAAAAAAAOCWC\n",
              "IAAAAAAAAAAAwCkRBAEAAAAAAAAAAE6JIAgAAAAAAAAAAHBKBEEAAAAAAAAAAIBTIggCAAAAAAAA\n",
              "AACcEkEQAAAAAAAAAADglAiCAAAAAAAAAAAAp0QQBAAAAAAAAAAAOCWCIAAAAAAAAAAAwCkRBAEA\n",
              "AAAAAAAAAE6JIAgAAAAAAAAAAHBKBEEAAAAAAAAAAIBTIggCAAAAAAAAAACcEkEQAAAAAAAAAADg\n",
              "lAiCAAAAAAAAAAAAp0QQBAAAAAAAAAAAOCWCIAAAAAAAAAAAwCkRBAEAAAAAAAAAAE6JIAgAAAAA\n",
              "AAAAAHBKBEEAAAAAAAAAAIBTIggCAAAAAAAAAACcEkEQAAAAAAAAAADglAiCAAAAAAAAAAAAp0QQ\n",
              "BAAAAAAAAAAAOCWCIAAAAAAAAAAAwCkRBAEAAAAAAAAAAE6JIAgAAAAAAAAAAHBKBEEAAAAAAAAA\n",
              "AIBTIggCAAAAAAAAAACcEkEQAAAAAAAAAADglAiCAAAAAAAAAAAAp+R2qxMAAAAAAABwK/3+r1Sd\n",
              "Wjv9VicDAACnc++Bl251EugJAgAAAAAAAAAAnBNBEAAAAAAAAAAA4JQIggAAAAAAAAAAAKdEEAQA\n",
              "AAAAAAAAADglgiAAAAAAAAAAAMApEQQBAAAAAAAAAABOiSAIAAAAAAAAAABwSgRBAAAAAAAAAACA\n",
              "UyIIAgAAAAAAAAAAnBJBEAAAAAAAAAAA4JQIggAAAAAAAAAAAKdEEAQAAAAAAAAAADglgiAAAAAA\n",
              "AAAAAMApEQQBAAAAAAAAAABOiSAIAAAA8CdhMplkMpnk5eUlV1dX4++ePXsqKSlJJpPppu07NjZW\n",
              "ly9frtC6c+bMUUxMzA1LS25urjp16iRfX189++yzN2y713OM5fHUU09p06ZNN2XbLi4uOn/+/E3Z\n",
              "dnlNnDhRS5YskXRz8uz8+fOaNm2aze9PnDih+Ph4i8/q168vs9l8Q/ZfXrGxsRo1atQt2XdJ1s6N\n",
              "o86dO6eHHnpIJpNJb7755nWlIzU1VT179ryubQAAAFwvt1udAAAAAACFih7enjhxQiaTyeJhblJS\n",
              "0k3d9+uvv65Ro0apSpUqN3U/jkhLS9Phw4eVkZFxQ7db0WO8du2aJKlSJcfeIZs3b16503Yz5efn\n",
              "y83txv/0mzx5svH/m5FnRUGQcePGWf2+6EH/sGHDbtg+nUF+fv51nZv169erevXq2rZt23WnJSgo\n",
              "SEuXLr3u7QAAAFwPeoIAAAAAfxH5+fkaPny4/P395e3trdTUVOO7devWKTw8XM2bN1dISIjNnghT\n",
              "pkxRs2bNjF4mP/zwg/GgNCIiQiaTSWfOnFFMTIxmzZplrDdmzBjFxsZKkrKzs9WzZ095enoqPDxc\n",
              "+/btM5bz9fXV9u3bjb8//vhjm2+CT58+Xd7e3vL19VWfPn2UlZWlAwcOqE+fPvrxxx9lMpm0cOHC\n",
              "Uuu5uLho6tSpCgkJUYMGDTR//nyLdAYHB8tkMikyMtJ4KF/eY4yNjdXjjz+u6Oho+fj46Ndff3X4\n",
              "HLdq1UorV66UVBgQ8fLykslkkq+vr3bu3Flq+X379ik8PFyBgYHy8vLSlClTrG63JFvHWnSOJk2a\n",
              "pODgYL3yyiv69ddf1a5dO3l5ealdu3Z68sknjWPNy8vTuHHjFBISIpPJpB49eigzM7PM/Redv+vN\n",
              "s9TUVIWFhcnPz08hISHGw/dhw4YpOztbJpNJQUFBpbY5bNgwZWRkyGQyqXPnzsbnK1asUGhoqBo0\n",
              "aGBxLk+dOqUePXooJCREvr6+Gj9+vNXjunr1ql566SX5+PjIx8dHzz//vHJzc41jfvrpp9W2bVs1\n",
              "adJE3bp1M74rrjz1oLhWrVrp+eefV3BwsBo1aqTRo0eroKBAkjRz5kwjv4ODg5WcnGysV79+fY0d\n",
              "O1YhISEaMGCAzXNT1jEmJibqpZde0o4dO2QymZSYmGix3m+//aZ27drJ19dXfn5+GjhwoPHd22+/\n",
              "LV9fX/n7+6tly5a6dOlSqR5stupQUlKSfHx8bLZvq1evVnBwsPz9/WUymYx6lJKSojZt2igoKEgB\n",
              "AQFatmxZmecYAAD876EnCAAAAPAXcejQIX3yySf68MMPFR8fr9dee03r1q3TsWPHFBsbq3Xr1snD\n",
              "w0NHjhxRRESETpw4IXd3d2P9zMxMzZgxQ7/++quqVq2qS5cuqVKlSoqPj9fcuXO1ZcsW1apVq8x0\n",
              "TJ48We7u7jp06JAuXLigli1bqkWLFpKkESNGaM6cOQoLC5MkffDBB5ozZ06pbXzzzTf69NNPlZyc\n",
              "rFq1amno0KEaN26cPvroI82bN0+jRo2yO6yRu7u7du3apUOHDik4OFj9+vWTm5ubxo4dqxkzZkiS\n",
              "Pv/8c40cOVJr164t9zFKUnJystLS0nTPPfc4fI5LGj16tA4dOqT77rtPeXl5unLlSqll6tevrw0b\n",
              "Nsjd3V05OTkKCwtTVFSUWrZsaTd9to61iKurq1JSUiRJTzzxhEJDQ/X666/r1KlTMplMatq0qaTC\n",
              "YFS1atW0a9cuSdIbb7yh8ePH64MPPnDoPHl5eVU4z65du6Zu3brpn//8p6Kjo7V161Y9/vjjOnLk\n",
              "iOLj40v1iCouPj7e6j7Pnz+v5ORk/d///Z8efPBBDRw4UHXr1tWAAQP06quv6uGHH1Z+fr46deqk\n",
              "ZcuW6YknnrBY/+OPP1ZKSop2794tV1dXde7cWXFxcRo7dqykwh5bmzZtkru7uyIjI7V8+XL16tXL\n",
              "YhuO1gNrDhw4oO3btysvL0+RkZH67LPP1Lt3b/Xr108vvviiJGnHjh2KiYnRoUOHjPXOnj2rnTt3\n",
              "ysXFRUlJSXbzw94xTp48WStXrjQCecUtXrxYDRo00H//+19JhUNnSdK//vUvLV++XFu3blXNmjWV\n",
              "mZlZql7Yq0OS7fbt+++/18CBA7V582Y1bdpUeXl5unTpks6fP6+hQ4dqzZo1uu+++/R///d/CgwM\n",
              "VFhYmOrWrWv3HF+5cqVUXbxacM3uOgAA4K+LIAgAAADwF9GoUSMj2BAaGmo8AF+7dq2OHDmiyMhI\n",
              "Y9lKlSrpxx9/VOPGjY3PPDw81LhxY/Xt21ft2rXTo48+qnr16pU7HRs2bFBcXJxcXFxUs2ZN9e7d\n",
              "W0ePHpUk9e3bVxMnTtTp06d1+PBhubi4KCIiotQ2EhMT1bNnTyMg8cwzz5R6GG1Pnz59JElNmzaV\n",
              "m5ubTp06pXr16mn9+vWaPXu2srOzde3aNeMhbUV07NhR99xzjyTHz3FJbdu2Vb9+/fTYY4+pQ4cO\n",
              "atKkSallcnJyNHz4cJnNZlWqVEk//fSTzGZzmUGQso510KBBxv83bNhglJd7771XnTp1Mr5buXKl\n",
              "srKytHz5ckmF83vUr1/f7r4rwlqeZWZmqlKlSoqOjpYkhYeH65577pHZbK5Q2ZSk3r17S5Lq1Kmj\n",
              "hg0b6vjx46pVq5Y2bNig06dPG8tdvHjR6vBdiYmJiomJMR7iDxkyRB988IERBOnatatuv/12SVJI\n",
              "SIhR9otztB5Y079/f1WuXFmVK1dW3759lZiYqN69eystLU1vvvmmzp49Kzc3N2VkZCgnJ0dVq1aV\n",
              "VNhLxcXFxaF9lHWMtrRs2VJxcXEaPXq0IiMj1b59e0nS119/rWHDhqlmzZqSpDvuuKPUuvbqkGS7\n",
              "fVu/fr3at29vBO0qV66smjVras2aNTp27Jg6dOhgsZ+MjIwygyBvvfWWXn/9dYvPmle53+46AADg\n",
              "r4sgCAAAAPAXUXwuC1dXV+Xn50uSCgoK9MgjjyghIcHu+q6urtqxY4e2b9+upKQktWzZUp999pnV\n",
              "h7Nubm66evWq8ffly5dVvXp1q9st/uC1atWqiomJ0dy5c3Xw4EGHJ8l29OFtEWvn4scff9Rzzz2n\n",
              "lJQUPfjgg0pPT7d44FpSWcdY/P+OnuOSli9frt27dyspKUkdO3bUlClT9OSTT1os8+qrr6pOnTpK\n",
              "S0uTm5ubunXrVuYE7o4cq638kizPd0FBgWbPnq127dqV69jKy1b5tZe2G7WfoiGlduzYUe45YUqm\n",
              "x5HjqGg9sLX/3NxcdevWTZs2bVJwcLAuXLigmjVr6sqVK0YQxF5+O7IPR4SGhspsNisxMVErVqzQ\n",
              "hAkTlJaW5tC69urQyZMnHS4fxbfn7e1tMeyYo1555RWjV02RF+t3LPd2AADAXwNzggAAAAB/cdHR\n",
              "0UpMTFR6errxWdHQRsVlZ2fr9OnTioiI0IQJExQeHm48wKxRo4aysrKMZRs1amRs4+zZs1qzZo3x\n",
              "XVRUlObPn6+CggJduHBBn332mcV+nn32WX388cfauHGj8fZ/SVFRUfr3v/+tCxcuSJLmzp173Q/h\n",
              "s7KyVLlyZd13330qKCgoNfxQeY6xJEfPcXH5+fk6evSogoKCNGbMGHXv3t3qOpmZmapXr57xdv/6\n",
              "9euv+1hLatOmjRYsWCBJOn36tL7++mvjuy5duiguLk6XLl2SJF26dEnfffedJOk///mP+vfvX2Z6\n",
              "KsrT01PXrl0zjnn79u3GcF0eHh7KycmxOueGVNizqXh+2lO9enW1bt1a06ZNMz775Zdf9PPPP5da\n",
              "NioqSgsXLlRubq7y8/M1b968CpVNW/Vgzpw5euWVV2yut3jxYuXl5SknJ0cJCQmKiorS5cuXlZub\n",
              "q/vvL+ytMHv2bLv7LuvcVPQYjx8/rurVq6tHjx6aPXu2vv/+e128eFGdO3dWfHy8sc/z589bBBil\n",
              "itWhovXWrVtnDP2Vl5enrKwshYWF6fjx4xbzlpjNZpvlpTh3d3d5eHhY/HN14fEIAADOip4gAAAA\n",
              "wF9co0aNlJCQoKefflqXLl1Sbm6uAgICSr1xnZWVpe7du+v333+Xi4uLGjdurAEDBkgqnLvikUce\n",
              "0e23367//ve/Gjp0qLp3765mzZqpYcOGFkMzTZgwQU899ZSaNm2qu+66S+Hh4Rbj69erV08BAQFq\n",
              "0qSJMWxQSR06dND+/fsVGhqqSpUqyc/PTx9++OF1nQdfX189+eST8vb21p133qkuXbpYfF+eYyzJ\n",
              "0XNc3NWrVzVo0CCdO3dObm5uuuuuuywmBC8yfvx49evXT//617/04IMPqk2bNtd9rCW99957GjBg\n",
              "gLy8vPS3v/1NLVq0MIYiGzt2rK5cuaIWLVoYPQLGjh0rb29vHT58WB4eHmWmp6Juu+02rVixQiNG\n",
              "jNDo0aNVpUoVffHFF0avhv79+8vPz0/Vq1e3mChbkvz8/OTt7S0fHx81bNhQq1atsruvJUuW6MUX\n",
              "X5SPj49cXFxUrVo1zZ07t9SwW0OHDtXRo0cVGBgoqXCy8lGjRpX72GzVgwMHDqhhw4Y212vWrJke\n",
              "eughnTt3Tv/4xz/05JNPysXFRVOmTFFISIjq1KlTqjdRSWWdm4oeY1JSkmbOnGn01Jg+fbpq1qyp\n",
              "fv366ZdfflFYWJjc3NxUrVq1UpOqV6QOFa03f/589e3bV3l5eXJ1dVV8fLxCQkK0evVqjRkzRqNH\n",
              "j1ZeXp7uv/9+Yy6Tjh07avLkyQoKCirzuAAAgHNzKSjqFwwAAAAAN8Dvv/8uT09PbdmyRQ0aNLjV\n",
              "yYEK5x2pXLmy3NzcdPbsWbVs2VKLFy825mCwpUuXLpo1a9ZNmSPE2dmqB+Hh4frmm29Uo0aNUusU\n",
              "BSPKCmrhxnv6zki9fs9jtzoZAAA4nXsPvHSrk8BwWAAAAABunPj4eDVt2lTDhw8nAPIncvjwYQUF\n",
              "Bcnf31/h4eEaPnx4mQEQqXDSdAIg5WevHmzdutVqAAQAAAA3Bz1BAAAAAADA/zR6ggAAcHPQEwQA\n",
              "AAAAAAAAAOAmIQgCAAAAAAAAAACcEkEQAAAAAAAAAADglAiCAAAAAAAAAAAAp0QQBAAAAAAAAAAA\n",
              "OCWCIAAAAAAAAAAAwCkRBAEAAAAAAAAAAE6JIAgAAAAAAAAAAHBKBEEAAAAAAAAAAIBTIggCAAAA\n",
              "AAAAAACcEkEQAAAAAAAAAADglNxudQIAAAAAAABupWoDgnTvzJdudTIAAMBNQE8QAAAAAAAAAADg\n",
              "lAiCAAAAAAAAAAAAp0QQBAAAAAAAAAAAOCWCIAAAAAAAAAAAwCkRBAEAAAAAAAAAAE6JIAgAAAAA\n",
              "AAAAAHBKBEEAAAAAAAAAAIBTIggCAAAAAAAAAACcEkEQAAAAAAAAAADglAiCAAAAAAAAAAAAp0QQ\n",
              "BAAAAAAAAAAAOCWCIAAAAAAAAAAAwCkRBAEAAAAAAAAAAE6JIAgAAAAAAAAAAHBKBEEAAAAAAAAA\n",
              "AIBTIggCAAAAAAAAAACcEkEQAAAAAAAAAADglAiCAAAAAAAAAAAAp0QQBAAAAAAAAAAAOCWCIAAA\n",
              "AAAAAAAAwCkRBAEAAAAAAAAAAE6JIAgAAAAAAAAAAHBKBEEAAAAAAAAAAIBTIggCAAAAAAAAAACc\n",
              "EkEQAAAAAAAAAADglAiCAAAAAAAAAAAAp0QQBAAAAAAAAAAAOCWCIAAAAAAAAAAAwCkRBAEAAAAA\n",
              "AAAAAE6JIAgAAAAAAAAAAHBKBEEAAAAAAAAAAIBTIggCAAAAAAAAAACcEkEQAAAAAAAAAADglAiC\n",
              "AAAAAAAAAAAAp0QQBAAAAAAAAAAAOCWCIAAAAAAAAAAAwCm5FBQUFNzqRAAAAAAAANwqQYFd1Obh\n",
              "p251MgAAcDrvxHW61UmgJwgAAAAAAAAAAHBOBEEAAAAAAAAAAIBTIggCAAAAAAAAAACcEkEQAAAA\n",
              "AAAAAADglAiCAAAAAAAAAAAAp0QQBAAAAAAAAAAAOCWCIAAAAAAAAAAAwCmVKwiSnp7u0GcAAAAA\n",
              "AAAAAAC3WrmCIDExMQ59BgAAAAAAAAAAcKu5ObLQmTNndOrUKeXk5Gjfvn0qKCiQJGVlZen333+/\n",
              "qQkEAAAAAAAAAACoCIeCIJ999plmzZqlX375RZ07dzY+r1mzpl5++eWbljgAAAAAAAAAAICKcigI\n",
              "MnLkSI0cOVJvvPGGJkyYcLPTBAAAAAAAAAAAcN3KNSdI69atS322bNmyG5YYAAAAAAAAAACAG6Xc\n",
              "E6O/8847kqS8vDwNHz7c+BsAAAAAAAAAAODPpFxBkF27dmnr1q3q2LGjQkNDValSJW3btu1mpQ0A\n",
              "UA7Z2dmqXr26Bg8ebPH5ggUL1KVLF0nSiRMnFB8fb/F9/fr1ZTab/6BUSq1atdLKlSvLXO7EiROq\n",
              "VavWTU/P/7KVK1dqx44dFVr3yy+/VLNmzWQymbRv374bkp6kpCStXbv2hmyrPBwtk39F58+f17Rp\n",
              "0yw+e+qpp7Rp06Yy1zWZTMrOzpYkzZo1S6dOnSr3/letWqUXXnih3OvZMmnSJDVt2lQtWrS4ZeXF\n",
              "UV9//bVatWp1Q7cZGxury5cv39BtXrx4US4uLjd0m87kZpxzW6xdo/9sBg8eLC8vL3Xt2vVWJ8Vq\n",
              "+/Zna8+v5zpblpiYGM2aNavc67m4uOj8+fM3PD0AAAB/ZuUKgtSuXVv9+/fX9u3bderUKT333HO6\n",
              "7bbbblbaAADlsHTpUjVv3lwrVqzQxYsXrS7zV3jA8r8oPz//luzzeh7OxMfHa+LEiTKbzfL19b0h\n",
              "abqeh9q34hz+FVh7SDhv3jyrQ5yWZDabVaNGDUkVD4J07txZcXFx5V7PlnfeeUebNm3Szp07//RB\n",
              "kIq6evWqze9ef/31P+yB/P+Ca9eu6dq1a3aX+SPP+a24Rpen7Tx9+rQ+//xz7du3T//5z39KfW+v\n",
              "7N4M1tq3G+FGXk+u5zrLdQ0AAODGKVcQ5Pnnn9fUqVOVmpqq+Ph4tW/fXosXL75ZaQMAlMMnn3yi\n",
              "sWPHKjIyUkuXLrW6zLBhw5SRkSGTyaTOnTsbn69YsUKhoaFq0KCBpkyZYnx+5MgRRUVFyc/PTyaT\n",
              "yeLtypJvEtapU0cnTpyQJG3fvl0mk0m+vr4aNGiQ/P39lZSUZCy7detWRURE6MEHH9SwYcPsHtek\n",
              "SZPUvHlzNWrUSGvWrHFo//Xr19f48eMVFhamv//974qPj9f8+fMVGhqq+vXr6/PPPzfW69Onj4KC\n",
              "guTn56dHH33UeNBb1BPF2v5zcnLUs2dPeXl5yd/fX+3atbOa9pkzZyo4OFgmk0nBwcFKTk42vqtf\n",
              "v77Gjh2rkJAQDRgwQHl5eRo3bpxCQkJkMpnUo0cPZWZmltpmUbrGjBkjPz8/eXt7KzExUVLhA5Po\n",
              "6GgFBQXJ29tbvXv31u+//y6pMMDg7e2twYMHy2QyacmSJVq1apWmT58uk8mkefPmldqXrfwfMWKE\n",
              "tmzZoldffVVhYWGl1ouNjVXPnj312GOPycvLS23atNG5c+ckSfv27VN4eLgCAwPl5eVllDez2az4\n",
              "+HgtWbJEJpNJkydPLtUbqOQb6y4uLpo0aZKCg4P1yiuvKDs7W0OGDFFISIj8/Pw0dOhQ5ebmWs2b\n",
              "kmyVyZJv2o4ZM0axsbHGcfbo0UOPPfaYmjRpok6dOmn//v2Kjo5WkyZN1KtXL+MBa0JCglq0aKGA\n",
              "gAD5+/vrq6++MrbZqlUrjRkzpsw6YS9/JWn+/PkymUzy9/dXUFCQTpw4oWHDhik7O1smk0lBQUHG\n",
              "/lauXKmffvpJd999t8U5iomJ0XvvvWec3/Pnz2vy5Mn65Zdf1LNnT5lMJu3YsUP33nuvfvrpJ2O9\n",
              "V199VWPHji2V5uI90Q4fPqyHHnpI/v7+8vX11fjx460e57p16xQYGCg/Pz89/PDDOnDggCQpLCxM\n",
              "ly9fVrt27dS5c+dS5aVo3fDwcDVv3lwhISFGj5ekpCT5+Pho+PDh8vf3l7e3t1JTU63uv6w8t1W2\n",
              "i4aKbdy4scW+iyxatEgtWrRQYGCgIiMjtXfvXuMctW7dWo8//rh8fX21a9cuTZkyxehpZTKZ9MMP\n",
              "PxjlIiIiQiaTSWfOnNGZM2fUrVs3+fr6ysfHR3PnzjX2l5qaqrCwMPn5+SkkJMSi9/bcuXPVuHFj\n",
              "BQQE2A1SbdiwQaGhoQoICJC3t7c++eQT47t58+bJy8vLaOt37txZan1b9b0ke22qvfPWpk0bde7c\n",
              "WV5eXoqMjDSuAfb2Gxsbq8cff1zR0dHy8fHRr7/+qjFjxhhtdWRkpDIyMiTJ6jkvTztjrU7aq8fW\n",
              "rtGHDx/Wo48+quDgYPn5+WnOnDnG9ot65Pn7+2vs2LEW10Fb+V/Uro4dO1aBgYGaMWOGQ/X5/Pnz\n",
              "at26tS5fvqzmzZtr2rRpVsuurfpbVAefeeYZ+fn5ydfXV+np6YqJiZGvr69atGihkydPWj2Pto7F\n",
              "Wvsm2W7P7eVdq1atNGLECIWGhlq9psfExOjpp59W27Zt1aRJE3Xr1s1Y11Y9WbNmTanrbFJSkkwm\n",
              "k7Hd/fv3q379+lbzZs6cOXbroD0uLi4aP368AgIC1KRJEy1ZssTi+w8//FAhISFq0KCB5s+fb3xu\n",
              "r7y5uLho6tSpVtcrq7xNmDBBgYGBaty4sbZt26YXXnhBJpNJPj4+2r9/v7Ede/U9KipKvXr1kq+v\n",
              "r4KCgnTs2DFJ0qlTp9S6dWs1b95c3t7eeu6558oMbkrSlStXdOHCBYt/BQ6sBwAA/prcyrPwlStX\n",
              "lJycLHd3dzVq1Eh+fn7q1auX+vbte7PSBwBwwIEDB/TTTz8pOjpa+fn5mjZtWqlhsaTCt/dHjRpV\n",
              "avir8+fPKzk5Wf/3f/+nBx98UAMHDlTdunXVp08fDRo0SE8//bQOHz6sli1bKiAgQA888IDNtOTm\n",
              "5qpnz55auHChWrdurU2bNln8UJako0ePatOmTcrLy5OXl5eSk5MVGhpaaltZWVny8/PT66+/rrVr\n",
              "12rkyJHq2LGjQ+fk999/1/bt23XkyBH5+vrqtddeU3JyslJSUtSxY0c9+eSTkgrfcL/rrrskSdOm\n",
              "TVNsbKzxJq6t/a9du1bnz583Hu4UPQQtqV+/fnrxxRclSTt27FBMTIwOHTpkfH/27Fnt3LnTeLBQ\n",
              "rVo17dq1S5L0xhtvaPz48frggw+snpdmzZppxowZ2rFjhzp37qyjR4+qevXqSkhI0J133qmCggIN\n",
              "Hz5cs2fP1rhx4yRJBw8e1Icffmg8RNm0aZNMJpNGjRplNf228v/9999Xenq6Ro0aZTzgLmnnzp3a\n",
              "vXu37rzzTj355JOaO3euXnnlFdWvX18bNmyQu7u7cnJyFBYWpqioKLVs2VLDhg3T+fPnjQfQRQ/z\n",
              "7HF1dVVKSookaejQoYqIiNA///lPFRQUaMiQIXrvvff00ksvlbkdR8tkSampqdq9e7dq1aqlVq1a\n",
              "6amnntL69etVtWpVBQUF6ZtvvtGjjz6q6Oho9erVSy4uLjpx4oRatmypH374Qe7u7g7v39XV1Wb+\n",
              "JiUlafLkydq+fbvuu+8+Xbp0SVJhnTeZTFaHvPv73/8uk8mkVatWqXv37rp48aJWrVqld99912K5\n",
              "iRMn6tNPP9XSpUuNh3eDBw/WRx99pKlTp+rKlSuaP39+mW87z5kzR506ddIrr7wiyXq9OXPmjHr3\n",
              "7q2kpCT5+vpqyZIl6t69u7777jtt375dLi4u2rJli2rVqqXY2FiL8nLs2DHFxsZq3bp18vDw0JEj\n",
              "RxQREWGUo0OHDumTTz7Rhx9+qPj4eL322mtat26d3TRbY6tsf/zxx8rIyNB3330nSYqOjjbW2bZt\n",
              "mz777DNt3rxZ7u7u2rJli3r37m0su3PnTqWlpcnT01OZmZnq0KGDfv31V1WtWlWXLl1SpUqVFB8f\n",
              "r7lz5xrHL0k9e/aUp6enVqxYoTNnzqh58+by9/dXYGCgunXrpn/+85+Kjo7W1q1b9fjjj+vIkSM6\n",
              "ceKEJk2apLS0NN1333169dVXbR5rYGCgtm7dKldXV507d04BAQGKjo5WvXr1NHr0aB06dEj33Xef\n",
              "8vLydOXKlVLr26vvxdlqU8s6b9u2bZPZbFazZs30zjvvaOjQofrvf/9b5n6Tk5OVlpame+65R5I0\n",
              "duxYzZgxQ5L0+eefa+TIkVq7dq3Vc+5oO2OrTtqrxyWv0VevXlWvXr20ePFiNW3aVJcuXVLLli3V\n",
              "okULPfDAAxo0aJC2bdumpk2bav78+Tp79qykwuuwrfyXCq8h3t7eevvttyUVBgfKqs+1atXSmjVr\n",
              "LNqTBQsWWJTdM2fOqFmzZlbrr1RYB//1r3/po48+0oQJE9SmTRtt3bpVTZs21bPPPqtZs2Zp+vTp\n",
              "Fvu1dyy22jdb7eno0aPt5t3333+vzZs3q3LlyqXKslQYrN+0aZPc3d0VGRmp5cuXq1evXjbrSceO\n",
              "HdW5c2eL62zxF0KsKZk3mZmZNutgWVxcXJSWlqZjx44pKChIDz30kBFwcXd3165du3To0CEFBwer\n",
              "X79+cnFxsVnegoODba537dq1Mstb8+bN9cYbb+iTTz5RdHS0vvrqK8XFxWn69Ol6/fXXtWzZsjLr\n",
              "e0pKisxmsxo0aKBx48bp7bff1ty5c1WrVi199dVXql69uq5evap//OMf+ve//23c59ny1ltv6fXX\n",
              "X7f47L57Pcs8rwAA4K+pXEGQjz/+WHl5eTp69KgefPBB3X///dq8efPNShsAwEGffPKJ+vfvL1dX\n",
              "V3Xs2FFPP/20Dh48qGbNmjm0fu/evSUV9qZo2LChjh8/Lg8PD+3Zs8d4m69x48YKDw/Xli1b7AZB\n",
              "Dh06JDc3N2O4ndatW+vBBx+0WKZnz55yc3OTm5ubTCaTjh49avWBc5UqVdStWzdJUmhoqI4ePerQ\n",
              "8RTtQ5IaNWqkKlWqqHv37pKkoKAgnTt3TufPn1etWrWUkJCgRYsW6fLly7p8+bLq1KlT5v79/f11\n",
              "8OBBDR8+XA8//LDNwExaWprefPNNnT17Vm5ubsrIyFBOTo6qVq0qqfDN0qKeDStXrlRWVpaWL18u\n",
              "qfDBT9HDipLc3NwUExMjSWrZsqX+9re/KS0tTeHh4YqLi9Pq1auVn5+vrKwsi54aDRs21MMPP+zQ\n",
              "+cvOzq5Q/hdp37697rzzTkmF565o3pCcnBwNHz5cZrNZlSpV0k8//SSz2VzqoaijBg0aZPx/5cqV\n",
              "Sk5O1syZM419ubq6OrQdR8tkSe3atdMdd9whqfCBsbu7uzGEVEBAgA4fPixJOn78uPr06aOff/5Z\n",
              "bm5uOnfunI4fP66mTZs6vP+CggKb+bt69Wr169dP9913nyTp9ttvd+i4Bw4cqPnz56t79+5atmyZ\n",
              "2rRpY+SbPcOHD1dISIgmTZqkZcuWKSQkpMxyERkZqZdeekkXL17Uww8/rKioqFLL7Ny5U76+vsYQ\n",
              "a3369NGzzz6rkydPlvnQb+3atTpy5IgiIyONzypVqqQff/xRUmFb0KJFC0mFZbLooXd52SrbGzZs\n",
              "UP/+/Y2hYgcNGmQEHL/88kvt3bvX2L9U+KA/JydHUmEvF0/PwodvHh4eaty4sfr27at27drp0Ucf\n",
              "tXnsiYmJ2r17tyTp7rvvVrdu3ZSYmKhq1aqpUqVKRiAmPDxc99xzj8xms/bs2aMOHToYZeWZZ57R\n",
              "W2+9ZXX7Z8+e1eDBg/X999/Lzc1NZ8+e1f79+1WvXj21bdtW/fr102OPPaYOHTqoSZMmpdZ3tL7b\n",
              "alMdOW9F17mhQ4dq/Pjxunr1apn77dixoxEAkaT169dr9uzZys7O1rVr12wGtiXH2xlbdfLatWt2\n",
              "2+niioJqxR/mZmdn68CBA/r111/l5+dntCEDBgwwej1kZGTYzP969eqpcuXKFi+xVaQ+Fyledu3V\n",
              "X6mwDjZv3lxS4bW4UaNGRvpDQkKsDrFV1rFYY6s9LSvv+vbtazMAIkldu3Y18jEkJMS4J7BXT8qr\n",
              "ZN5cz7afeuopSYXX/sjISG3evNm4r+jTp48kqWnTpnJzc9OpU6d04cIFm+WtKAhibb3MzEy7eVSl\n",
              "ShXjhYmgoCBVr17duEcMCQkxeqmUVd+LeiwX/X/27NmSCuvU2LFjtXXrVhUUFOjMmTPy8fEpMwjy\n",
              "yiuvGC+qFGkdycudAAA4q3IFQb799lv16tVLbm5u+vHHH5WSkqL33nuPIbEA4BbKy8vTokWLVLly\n",
              "ZSUkJEiSLl26pE8++cThh3xVqlQx/u/q6mpzHOriQxG5urpajP9tb8z0kpPuOro/d3d3Y92S+ytr\n",
              "/yX3UfS3i4uLXFxclJ+fr61bt+r9999XcnKy7r77bq1atUoTJ04sc/8NGzbUgQMHtHHjRiUmJurl\n",
              "l1+W2Ww2HoZL/+/t1U2bNik4OFgXLlxQzZo1deXKFSMIUr16dWP5goICzZ492+bQWmVxcXFRQkKC\n",
              "Nm7cqG+//VYeHh56//33tXHjRmOZ4vur6D4cZSuPX331VdWpU0dpaWlyc3NTt27dbJYdNze3MstY\n",
              "yXO4fPlyqw9jK5pea2kovk9b5azkdp588klNmzbNCMbVrl3b4ngcqRNl5W9FdO3aVSNGjNCvv/6q\n",
              "BQsW6OWXX3Zovbp16xpD73300UfGcFT2PP744woLC9P69es1Z84czZo1y2KIu+tVUFCgRx55xGgH\n",
              "izt58qTD7U5589yR9rKgoEADBgzQ1KlTrS5bfPuurq7asWOHtm/frqSkJLVs2VKfffaZIiIirK5r\n",
              "a5+OfmdvnWHDhqljx45avny5XFxcFBgYaJTb5cuXa/fu3UpKSlLHjh01ZcqUUg8dHa3vttrUss6b\n",
              "LWXtt/j5/vHHH/Xcc88pJSVFDz74oNLT0y0CaSVdTzsjla8eFxQUqHbt2lZ7cq1atapc+y2ez7ff\n",
              "frsqVfp/oyJXpD4XKc91xdH2sixlXYtsbbesvCvrWGxt1149Kams61rJvCnPtstS/LxZOxZ75c3e\n",
              "emXtq6jHY9E69vLHXn23td7MmTN15swZ7dy5U1WqVNGLL77o0Dlyd3e3SJskuVQq12jhAADgL6Rc\n",
              "V/mxY8dqy5YtxttvwcHBSktLuykJAwA4ZtWqVWrYsKFOnjypEydO6MSJE9qxY4cWLVqkvLw8i2U9\n",
              "PDyUlZXl0HZr1KihwMBAYyirI0eOaOvWrcbDoUaNGhljwK9YscIY09zT01N5eXn69ttvJRUG0IuG\n",
              "RLiRbO2/PDIzM1WjRg3deeedys3NtRhP356ff/5ZLi4u6ty5s2bMmKGCggKL8dSlwgcbubm5uv/+\n",
              "+yXJeGPRli5duiguLs4YMuXSpUvGEBAl5efna9GiRZKkXbt26ZdffpHJZFJmZqbq1KkjDw8PZWdn\n",
              "a8GCBXb3aa88lJX/FZWZmal69eoZPWPWr19vMz333nuvCgoKjCFyFi5caHfbXbp00dtvv208GMnM\n",
              "zDTK3pw5c4xhmMqjUaNGxhBlZ8+erfBD+8zMTOMN1sWLF1ud78WRbdjK38cee0yLFy/Wr7/+Kqmw\n",
              "/Fy6dEkeHh7KycmxOWdBlSpV9MQTTyg2NlZHjx5V+/btrS5nrayMHDlSr732ms6fP2+1V0dJhw8f\n",
              "1j333KP+/fvrnXfesTp8VsuWLbVv3z5jjPjPP/9cdevWVd26dctMU3R0tBITE5Wenm58VpR35VHR\n",
              "PI+KitLixYuVl5en3Nxci2EAO3furMWLFxu9Uq5du2ZzTpLs7GydPn1aERERmjBhgsLDw4377Ro1\n",
              "algcc1RUlP75z39Kkn777TetWLFCjzzyiDw9PXXt2jWjfm3fvl2nTp2SyWRSmzZttHbtWmP+I3sT\n",
              "cWdmZuqBBx6Qi4uLNm/ebIzPn5+fr6NHjyooKEhjxoxR9+7drZ5re/W9OFttalnnLTk52RhicN68\n",
              "eWrdurVcXV0d3q9UOFRP5cqVdd9996mgoMBiDgRr59xeO1OcrTpprx6XLNOenp7y8PCwKEtHjhzR\n",
              "uXPn1LJlS6WnpxvzlyxevNio5/by35by1mdrylN/HWXvWMpq30pyNO/Ky1Y9kUrnacOGDfXDDz/o\n",
              "t99+kyTjWl6RbZelqNycOHFCW7ZsKTOQaq+8lbVeecubNeVpJ4vLzMzUvffeqypVqujUqVNatmxZ\n",
              "ufYLAAD+N5QrCHL16tVSQ5oUdfkHANwan3zyiTE8QZFmzZqpbt26FpMvSzIm0vbx8bGYGN2WJUuW\n",
              "aOnSpfL391f37t01b94846F+XFycRo4cqcDAQKWlpRkBcnd3d33++ecaMWKEfH19NX/+fHl6elpM\n",
              "cH0j2Np/ebRv316enp7y9PQ0Jr51xL59+4wJngMCAtSvXz/5+flZLOPh4aEpU6YoJCREzZs3L/N6\n",
              "OXbsWAUHB6tFixby8/NTy5Ytbb6NWbNmTe3fv1/+/v4aOHCgEhISVKNGDfXv31+XLl2Sp6enOnTo\n",
              "UOYDj379+unf//63AgICrE6Mbi//K2r8+PGaP3++/Pz8NG7cOLVp08b4rmvXrjKbzcZE125ubpo9\n",
              "e7Y6deqk4ODgUkG9kuLi4lS1alWZTCb5+fmpbdu2xnwQBw4cqFAZGTp0qH777Tc1a9ZM/fv3r/Cw\n",
              "Xe+99566d++ugIAApaWlVeg82svfyMhITZo0SdHR0fL399fDDz+s3377TbVr11b//v3l5+dnMXFw\n",
              "cQMHDtTHH3+svn372hw+bMSIERoyZIjF+PstW7ZUzZo1NXz4cId6CX3xxRfy9fVVQECAevbsafXh\n",
              "+1133aUlS5YYaf7oo4+0bNkyq9svWV4aNWqkhIQEPf300/L391ezZs0sJjh3VEXzfMiQIWrcuLG8\n",
              "vLwUHh5u0Z5ERETonXfeUdeuXY2J2T///HOr28nKyjImO/fz81NeXp4GDBggSRo9erQeeeQRY5Lu\n",
              "999/XwcPHpSvr69at26t1157TS1atNBtt92mFStWaNKkSfLz89OoUaP0xRdfqHr16vLx8VFsbKwi\n",
              "IiIUEBBQ6k3o4qZNm6Zx48bJZDLp008/NYapuXr1qgYNGiQfHx+ZTCbt3r271LAykv36XpytNrWs\n",
              "8xYWFqaxY8fK29tbq1atMgLZju5Xknx9ffXkk0/K29tbwcHBpepmyXNur50pzladtFePS16j3dzc\n",
              "9PXXX2vFihXGd4MHD1ZOTo7uvvtuzZs3T126dJHJZNK+fftUvXp11apVy27+21Le+mxNeeqvo+wd\n",
              "iyPtW3GO5l152aonUunr7N/+9je9/PLLCgkJUcuWLVW7du0Kb7ssV69eVUBAgNq1a6f333/f5hCb\n",
              "ReyVN3sqUt6sKU87WdzIkSO1c+dOeXt7q1+/fhZBvKKXRAAAAFwKCgoKHF04IiJC33zzjSIjI7Vn\n",
              "zx7t27dPTz/9tLZv334z0wgA+IvJzs425kVISUkxJu52dJ4C2HbixAmZTCadP3/+ViflLyU8PFzf\n",
              "fPONUS5x/U6ePKmgoCB9//33nFf84RYsWKCVK1dq5cqVtzopt0zxa+3KlSv1yiuv6ODBgxXaFvXZ\n",
              "ubi4uCgzM/OGv4Di7IICu6jNw0/d6mQAAOB03onrdKuT4NicIL169dJnn32m8ePHq127djp58qT6\n",
              "9u2rxMREq+MuAwD+ty1fvlxxcXEqKCiQm5ubFi1aRAAEt9TWrVtvdRKcysSJE/Xpp59q2rRpPDAF\n",
              "bpHZs2dr6dKlunr1qjw8PIwJpsuL+gwAAABn51BPkKKhGyTp+PHjWrt2rQoKChQdHV1qeCwAAAAA\n",
              "AIC/EnqCAABwc/xleoIUH8e1QYMGeuaZZ25aggAAAAAAAAAAAG4Eh4Ig6enpVidtKygokIuLi86d\n",
              "O3fDEwYAAAAAAAAAAHA9HAqCeHp6as2aNTc7LQAAAAAAAAAAADeMQ0EQd3d3PfDAAzc7LQAAAAAA\n",
              "AAAAADdMJUcWcmDudAAAAAAAAAAAgD8Vh4IgaWlpNzsdAAAAAAAAAAAAN5RDQRAAAAAAAAAAAIC/\n",
              "GoIgAAAAAAAAAADAKREEAQAAAAAAAAAATokgCAAAAAAAAAAAcEoEQQAAAAAAAAAAgFNyu9UJAAAA\n",
              "AAAAuJUiWzXUOzM73epkAACAm4CeIAAAAAAAAAAAwCkRBAEAAAAAAAAAAE6JIAgAAAAAAAAAAHBK\n",
              "BEEAAAAAAAAAAIBTIggCAAAAAAAAAACcEkEQAAAAAAAAAADglAiCAAAAAAAAAAAAp0QQBAAAAAAA\n",
              "AAAAOCWCIAAAAAAAAAAAwCkRBAEAAAAAAAAAAE6JIAgAAAAAAAAAAHBKBEEAAAAAAAAAAIBTIggC\n",
              "AAAAAAAAAACcEkEQAAAAAAAAAADglAiCAAAAAAAAAAAAp0QQBAAAAAAAAAAAOCWCIAAAAAAAAAAA\n",
              "wCkRBAEAAAAAAAAAAE6JIAgAAAAAAAAAAHBKBEEAAAAAAAAAAIBTIggCAAAAAAAAAACcEkEQAAAA\n",
              "AAAAAADglAiCAAAAAAAAAAAAp0QQBAAAAAAAAAAAOCWCIAAAAAAAAAAAwCkRBAEAAAAAAAAAAE6J\n",
              "IAgAAAAAAAAAAHBKBEEAAAAAAAAAAIBTIggCAAAAAAAAAACcEkEQAAAAAAAAAADglAiCAAAAAAAA\n",
              "AAAAp0QQBAAAAAAAAAAAOCWCIAAAAAAAAAAAwCkRBAEAAAAAAAAAAE6JIAgAAAAAAAAAAHBKBEEA\n",
              "AAAAAAAAAIBTcikoKCi41YkAAAAAAAC4VQZ6u+iVYN4TBQDgRmuy4OqtTgI9QQAAAAAAAAAAgHMi\n",
              "CAIAAAAAAAAAAJwSQRAAAAAAAAAAAOCUCIIAAAAAAAAAAACnRBAEAAAAAAAAAAA4JYIgAAAAAAAA\n",
              "AADAKREEAQAAAAAAAAAATokgCAAAAAAAAAAAcEoEQQAAAAAAAAAAgFMiCAIAAAAAAAAAAJwSQRAA\n",
              "AAAAAAAAAOCUCIIAAAAAAAAAAACnRBAEAAAAAAAAAAA4JYIgAAAAAAAAAADAKREEAQAA+APUr19f\n",
              "ktSqVSudOHFCkhQTE6PbbrtNx44dM5YbM2aMYmNjy9xeUlKS1q5dexNSWpiupKQkxcbGasGCBTdl\n",
              "HzfS3Llz1bRpU5lMJp09e7bC2zl//rymTZtWoXVL5seJEydUq1atCqfFETExMZo1a9ZN3cdf0dGj\n",
              "RxUYGKiAgADNnz/f4rsTJ04oPj7e4rP69evLbDbftPQsWLBAXbp0uWHb69ixozIyMiq8fqtWrbRy\n",
              "5coblh577JXROXPmKCYm5g9JhyR9/fXXatWqVbnXu5HlY8GCBTp06FC51yvZnphMJmVnZ0uSduzY\n",
              "IV9fXwUEBGjdunUObzM+Pl7Tp08vd1r+zJKSkmQymW51MgAAwJ8QQRAAAIBbqG7dunrttdfKvd71\n",
              "BEHy8/MrtN6tcvXqVbvfz5o1S/Pnz5fZbNadd97p8HZLnocbGQTBrfPFF18oODhYaWlpGjhwoMV3\n",
              "1oIgfzVr1qyRp6fnrU5Gmf5q7cwfoaJBkJLMZrNq1KghSfrXv/6l3r17Ky0tTdHR0Q5vY9iwYXrp\n",
              "pZeuOy1/JMoUAACoKIIgAAAAf4C77rpLklS7dm25uroanw8dOlTbtm3Tnj17Sq2zb98+hYeHKzAw\n",
              "UF5eXpoyZYqkwgdg8fHxWrJkiUwmkyZPnlzqTeGLFy/KxcXF+NvFxUWTJk1ScHCwXnnlFWVnZ2vI\n",
              "kCEKCQmRn5+fhg4dqtzcXElSzZo1ddttt6l69eqqWrWq1eNJTk5WeHi4/P395efnpy+//FJSYU+W\n",
              "4OBgmUwmRUZGWryx7uLioqlTpyokJEQNGjQo9ZZ+kQULFqh169Z6/PHH5evrq127diklJUVt2rRR\n",
              "UFCQAgICtGzZMklS9+7ddfToUcXExKh79+6SpHXr1ik8PFzNmzdXSEiINm3aJKkwUOHt7a3BgwfL\n",
              "ZDLpP//5j8V+hw0bpuzsbJlMJgUFBUmSjhw5oqioKPn5+clkMll9g95afhSZNGmSmjdvrkaNGmnN\n",
              "mjXG57aOp6SYmBgNGjRIYWFhatKkiQYMGKCcnBzj+4MHD6pt27Zq0qSJunXrZuRhXl6exo0bp5CQ\n",
              "EJlMJvXo0UOZmZnGNp9++mmr6128eFGDBg2Sj4+PfHx89Prrrxv7atWqlUaPHq3IyEjdf//9mjBh\n",
              "gtasWaPw8HDVr19fM2fONJY9fPiwHn30UQUHB8vPz09z5sxxqBzYKz/F2UrnwoULFRcXpxUrVshk\n",
              "MunAgQMW6w0bNkwZGRkymUzq3Lmz8fmKFSsUGhqqBg0aGPVMkk6dOqUePXooJCREvr6+Gj9+vNX0\n",
              "LFiwQG3atFHnzp3l5eWlyMhIo8dXUXp79eolX19fBQUFGb2/OnXqpISEBGO5//73v2rRooUkad68\n",
              "efLy8pLJZJKvr6927twpybJnwsmTJ9W9e3f5+vrKz89PEyZMkCQlJCSoRYsWCggIkL+/v7766iur\n",
              "6S7u1Vdf1dSpUyUVBlpcXFz0/fffS5IGDRqkhQsXSiqsX4GBgfLz89PDDz9snOOy6ld2drZ69uwp\n",
              "T09PhYeHa9++fWWmSbLdDkpSbGysevbsqccee0xeXl5q06aNzp07J6mwDgwfPlyNGze2aAesmTlz\n",
              "plHugoODlZycbHW5KVOmqFmzZjKZTDKZTPrhhx/snpPi5s2bp9TUVL3wwgsymUxas2aNrl69qpde\n",
              "eskox88//7xRF+1xcXExgrZLly7VnDlzZDKZdP78ebt1r7jY2FiNGjVKUmH5jYqKslpGSzp06JBC\n",
              "Q0Pl7e2tbt26qV27dkaPQXvXlVatWmnMmDGKiIjQgw8+qGHDhhnbLGu9ESNGKDQ0VO3atVN+fr6i\n",
              "o6MVFBQkb29v9e7dW7///nuZ56ykK1eu6MKFCxb/rl4r92YAAMBfBEEQAACAP0BKSoqkwoetf//7\n",
              "343Pq1atqkmTJmns2LGl1qlfv742bNigPXv2aPfu3Vq+fLl27Nghk8mkYcOGqU+fPjKbzZo4caJD\n",
              "aXB1dVVKSoqmT5+u0aNHKyIiQrt27dLevXt17do1vffee5Kk9957T2FhYRozZox69uxZajvnzp1T\n",
              "ly5d9NZbb2nv3r0ym82KiIiQJI0dO1YpKSkym80aPny4Ro4cabGuu7u7du3apW+++UYjRoyw+Wbv\n",
              "zp07NXXqVO3bt0/NmjXT0KFDtWTJEqWmpmr9+vUaPXq0Tp48qS+++EJ/+9vftHTpUn3xxRc6duyY\n",
              "YmNjtWbNGu3evVsJCQnq3bu3rly5IqkwaNC/f3+ZzWY98cQTFvuMj49XjRo1ZDablZqaKknq06eP\n",
              "nnjiCaWnp2vZsmUaPHiw8eCziK38yMrKkp+fn3bv3q05c+bohRdekFTY48TW8dg6F+vWrdPBgwd1\n",
              "7tw5xcXFGd+ZzWZ99dVXOnjwoE6fPq3ly5dLkqZPn65q1app165dMpvNpR7g21rvjTfe0JUrV5Se\n",
              "nq6dO3dq5cqVWrp0qbHeDz/8oE2bNmnv3r16//33tWbNGm3ZskXbtm3TxIkTdf78eV29elW9evXS\n",
              "u+++q5SUFO3YsUMff/yxUQfslYOyyk8RW+ns37+/RV54eXmVymNPT0+ZzWatWrXK+Pz8+fNKTk42\n",
              "6kdRXgwYMEDPPvusdu3apbS0NKWmptoMWG3btk1vv/22Dhw4oE6dOmno0KHGdykpKUZ5joqK0ttv\n",
              "vy1JGjlypMVD6g8++EDPPfecJGn06NHasGGDzGaz9uzZI29v71L77Nu3r5o3b659+/YpPT1dI0aM\n",
              "kCRFR0drx44dSktL05dffqkhQ4YYdcCWqKgoJSYmSpLWr1+v0NBQ4+/ExERFRUXpzJkz6t27t/71\n",
              "r38pPT1dQ4cOVffu3VVQUCDJfv2aPHmy3N3ddejQIa1evVqbN2+2m54ittrBIjt37tSCBQt04MAB\n",
              "3X333Zo7d64k6eOPP1ZGRoa+++47bd261WqguUi/fv2Mcjd79uxSPYgkKTMzUzNmzNCePXtkNpu1\n",
              "fft23XPPPWWekyJPPfWUgoKCFBcXJ7PZrI4dOxr1Yvfu3TKbzTp69KhF/S7LuHHj1LlzZ7300ktG\n",
              "75Cy6p4ttsqotXM1dOhQfffdd3rzzTct8tHedUUqHKpu06ZN2r9/v9atW2cEm8pa7/vvv9fmzZu1\n",
              "ceNGubq6KiEhQampqdq/f79q1qyp2bNnO3zOirz11luqWbOmxb/0/yv3ZgAAwF+E261OAAAAwP+6\n",
              "mJgYvfvuu1q/fr3F5zk5ORo+fLjMZrMqVaqkn376SWazWS1btqzQfgYNGmT8f+XKlUpOTjbe3s/J\n",
              "ybHooWJPcnKyPD09jcBHpUqVVLt2bUmFD09nz56t7OxsXbt2zXgru0ifPn0kSU2bNpWbm5tOnTql\n",
              "evXqldpHWFiYMeTP9u3bdezYMXXo0MFimYyMDNWtW9fis7Vr1+rIkSOKjIw0PqtUqZJ+/PFHSVLD\n",
              "hg318MMPO3Sc2dnZ2rNnj7Zt2yZJaty4scLDw7VlyxY98MADZa5fpUoVdevWTZIUGhqqo0ePlvt4\n",
              "JKlHjx7G0DeDBw/W+++/r1dffVWS1LVrV91+++2SpJCQEGMfK1euVFZWlhHcyM3NNealsbdeYmKi\n",
              "3n33XVWqVEnVqlVT//79tX79eiMY1r17d7m6uuqOO+5Qw4YN1alTJ7m4uKhu3bq66667dOLECd12\n",
              "22367rvv9OSTT1qcywMHDig4OFiS7XJQVvkpUlY6y6t3796SpDp16qhhw4Y6fvy4atWqpQ0bNuj0\n",
              "6dPGchcvXrTZOyUsLEzNmjWTVNjDa/z48cZQbkW9TIr+X/TQ9pFHHtGoUaOUlpam2rVra9euXfr3\n",
              "v/8tSWrbtq369eunxx57TB06dFCTJk0s9nfx4kVt3brVYh6Ioh5nx48fV58+ffTzzz/Lzc1N586d\n",
              "0/Hjx9W0aVOb5+Chhx6S2WxWTk6Ovv32W82YMUNz5sxR27ZtVa1aNf3tb3/TV199JV9fX/n6+koq\n",
              "zMdnn33WCBrZq18bNmxQXFycXFxcVLNmTfXu3dsod/aU1Q62b9/eGAYvNDTU6GGyYcMG9e/fX7fd\n",
              "dpukwvbvk08+sbqPtLQ0vfnmmzp79qzc3NyUkZGhnJwci55wHh4eaty4sfr27at27drp0UcfNcqs\n",
              "rXNirW0rLjExUTExMXJ3d5ckDRkyRB988IHVoLgjioI+9uqeLbbKaHEXLlyQ2WxW//79JUnNmjVT\n",
              "eHi48X1Z15WePXvKzc1Nbm5uMplMOnr0qEJDQ8tcr2/fvqpcubIkqaCgQHFxcVq9erXy8/OVlZWl\n",
              "sLCwcp0nSXrllVf04osvWnz2XIua5d4OAAD4ayAIAgAAcIu5urpq6tSpGjdunMXEva+++qrq1Kmj\n",
              "tLQ0ubm5qVu3brp8+bLVbbi5uVnMnWFtuerVqxv/Lygo0PLly0s9WL0eP/74o5577jmlpKTowQcf\n",
              "VHp6ukUwQioMDBRxdXW12ROkZFq9vb21ffv2MtNQUFCgRx55xGKIoSInT5602G5FFB9irCzu7u7G\n",
              "8q6urkb+lOd4ykqDrfNZUFCg2bNnq127dla34Wg+lDzekutZ207lypVVu3Ztu5NJW1vPkfJjS3ny\n",
              "xdH0FL3Jv2PHDovvb9T2i4wYMUKzZ8/WPffco0GDBhkPxJcvX67du3crKSlJHTt21JQpUywebtvz\n",
              "5JNPatq0acYQcbVr17bZdhRxd3dXUFCQli1bpqpVq6pVq1YaOnSo1q1bp7Zt2zq03/LUL0fzrKx2\n",
              "sKJluUhubq66deumTZs2KTg4WBcuXFDNmjV15coViyCIq6urduzYoe3btyspKUktW7bUZ5995tAx\n",
              "OOp6y3FBQUGZdc8WR89jScXTXNZ1xV57ZW+94uUqISFBGzdu1LfffisPDw+9//772rhxo0NpLc7d\n",
              "3d2oa0aaGCcDAACnxWUeAADgT6BLly5yd3fXihUrjM8yMzNVr149483k4j1FPDw8lJWVZfx97733\n",
              "qqCgwBiLvmj8fnv7e/vtt42HUJmZmTpy5IhDaQ0LC9Phw4e1ZcsWSTLe2M/KylLlypV13333qaCg\n",
              "wOZY9OUVFham48ePG0PzSIXDOVkbOz86OlqJiYlKT083Ptu1a5dD+/Hw8FBOTo6x3Ro1aigwMNCY\n",
              "s+LIkSPaunWr1QfzJfPjRh2PVDjR98WLF3X16lXNnz9fUVFRZe6jS5cuiouL06VLlyRJly5d0nff\n",
              "fVfmelFRUfrkk09UUFCg33//XYsWLbIZSLHF09NTHh4eFnN9HDlyxGavjiLlKT8VTWd58ql69epq\n",
              "3bq1pk2bZnz2yy+/6Oeff7a6fHJysjHp9bx589S6dWuHelf169dP69at0/z58415EvLz83X06FEF\n",
              "BQVpzJgx6t69e6lyXL16dUVGRurdd981Pvvtt98kFdbnorf6Fy9ebMwHU5aoqChNnDhRbdu2VaVK\n",
              "lRQQEKCZM2caZa5ly5bat2+f9u/fL0n6/PPPVbduXas9mKxte/78+SooKNCFCxcsAggnT5602UvF\n",
              "XjtY1v4WL16svLw85ebm2pyD6PLly8rNzdX9998vSTaHVsrOztbp06cVERGhCRMmKDw8XGlpaeU6\n",
              "JyXLX1RUlBYuXKjc3Fzl5+dr3rx55a5vxVW07jnKw8ND/v7+Wrx4saTCnidbt241vq/odaU862Vm\n",
              "ZqpOnTry8PBQdna2MR8JAACAPQRBAAAA/iTefvtti8mUx48fr/nz58vPz0/jxo1TmzZtjO+6du0q\n",
              "s9lsTMTt5uam2bNnq1OnTgoODlZeXp7dfcXFxalq1aoymUzy8/NT27ZtLfZtzx133KH//Oc/Gjdu\n",
              "nPz8/BQYGKht27bJ19dXTz75pLy9vRUcHGw8VLxed9xxh1avXq2pU6fK399fXl5eGjdunK5dKz2L\n",
              "baNGjZSQkKCnn35a/v7+atasmWbNmuXQfmrXrq3+/fvLz8/PmBh9yZIlWrp0qfz9/dW9e3fNmzfP\n",
              "6nGVzI8bdTySFBwcrOjoaDVr1ky1atUyJjO2Z+zYsQoODlaLFi3k5+enli1bOvR2+IQJE1S5cmX5\n",
              "+vqqRYsW6ty5s3r06FHmesW5ubnp66+/1ooVK+Tn52dMll18QndrylN+KprOovT4+PhYTIxuy5Il\n",
              "S3TkyBH5+PjI19dX3bp109mzZ60uGxYWprFjx8rb21urVq0y5qYoy+23365u3brpoYceMuYLunr1\n",
              "qjHxu8lk0u7du0sN3SNJixYtUmpqqry9vWUymYzA0Xvvvafu3bsrICBAaWlpDtfFqKgo/fDDD0bQ\n",
              "45FHHtFPP/1k9FC76667tGTJEqOefPTRR1q2bJlDPRgmTJignJwcNW3aVB07drQYRunkyZNyc7M+\n",
              "SIG9dtCeIUOGqHHjxvLy8lJ4eLhMJpPV5Tw8PDRlyhSFhISoefPmxvBZJWVlZalbt27GJPR5eXka\n",
              "MGBAuc7J0KFDNXXqVGNi9KFDhyowMFCBgYEymUyqX7++Q/XblorWvfJYuHChPvroI/n4+BjtTK1a\n",
              "tSRV/LpSnvX69++vS5cuydPTUx06dDCGZbSmY8eOxvxOAADgf5tLQckZ2wAAAAD8KcTExMhkMl3X\n",
              "g1HcfAsWLNDKlSu1cuXKcq979epVNW/eXLNnz7b7QNeZTZ8+Xffdd5/69u17q5OCMly8eFHVqlWT\n",
              "i4uLjh8/rtDQUKWkpBgBvL+ygd4ueiWY90QBALjRmiy4WvZCNxlzggAAAADALbBq1SqNGDGizDfa\n",
              "nd1LL710q5MAB23fvt3Ir6tXryouLs4pAiAAAMC50RMEAAAAAAD8T6MnCAAAN8efoScIV3gAAAAA\n",
              "AAAAAOCUCIIAAAAAAAAAAACnRBAEAAAAAAAAAAA4JYIgAAAAAAAAAADAKREEAQAAAAAAAAAATokg\n",
              "CAAAAAAAAAAAcEoEQQAAAAAAAAAAgFMiCAIAAAAAAAAAAJwSQRAAAAAAAAAAAOCUCIIAAAAAAAAA\n",
              "AACnRBAEAAAAAAAAAAA4JbdbnQAAAAAAAIBb6Y7oF9Rk5sxbnQwAAHAT0BMEAAAAAAAAAAA4JYIg\n",
              "AAAAAAAAAADAKREEAQAAAAAAAAAATokgCAAAAAAAAAAAcEoEQQAAAAAAAAAAgFMiCAIAAAAAAAAA\n",
              "AJwSQRAAAAAAAAAAAOCUCIIAAAAAAAAAAACnRBAEAAAAAAAAAAA4JYIgAAAAAAAAAADAKREEAQAA\n",
              "AAAAAAAATokgCAAAAAAAAAAAcEoEQQAAAAAAAAAAgFMiCAIAAAAAAAAAAJwSQRAAAAAAAAAAAOCU\n",
              "CIIAAAAAAAAAAACnRBAEAAAAAAAAAAA4JYIgAAAAAAAAAADAKREEAQAAAAAAAAAATokgCAAAAAAA\n",
              "AAAAcEoEQQAAAAAAAAAAgFMiCAIAAAAAAAAAAJwSQRAAAAAAAAAAAOCUCIIAAAAAAAAAAACnRBAE\n",
              "AAAAAAAAAAA4JYIgAAAAAAAAAADAKREEAQAAAAAAAAAATokgCAAAAAAAAAAAcEoEQQAAAAAAAAAA\n",
              "gFMiCAIAAAAAAAAAAJwSQRAAAAAAAAAAAOCUCIIAAAAAAAAAAACnRBAEAAAAAAAAAAA4JYIgAAAA\n",
              "AAAAAADAKREEAQAAAAAAAAAATokgCAAAAAAAAAAAcEouBQUFBbc6EQAAAAAAALdK9ehg1Xqy7a1O\n",
              "BgAATufngdNudRLoCQIAAAAAAAAAAJwTQRAAAAAAAAAAAOCUCIIAAAAAAAAAAACnRBAEAAAAAAAA\n",
              "AAA4JYIgAAAAAAAAAADAKREEAQAAAAAAAAAATokgCAAAAAAAAAAAcEoEQQAAAAAAAAAAgFMiCAIA\n",
              "AAAAAAAAAJwSQRAAAAAAAAAAAOCUCIIAAAAAAAAAAACnRBAEAAAAAAAAAAA4JYIgAAAAAAAAAADA\n",
              "KREEAQAAAAAAAAAATokgCAAAwF/cggUL5OLiokWLFhmfff3112rVqlWZ6544cULx8fE3MXXWxcfH\n",
              "a/r06eVeb8GCBTp06JDF3126dLnu9NSvX19ms/m6t1MeQUFBSkpKqtC658+f17Rp025sgv5AHTt2\n",
              "VEZGhsPLJyUlae3atcbfJ06cUK1atW5CyhyzcuVK7dix46ZsOyYmRrNmzbqubcTGxmrUqFE3JD2S\n",
              "ZDKZlJ2dXeH1/+j6FRsbq8uXL1do3V9++UURERFlLvdHl0EXFxedP3/e6nfX05bcaI6ePwAAgD8S\n",
              "QRAAAAAn8MADD2jixInKzc0t13rXEwTJz8+v0HqSNGzYML300kvlXq9kEOSPdj3HfCP91YMga9as\n",
              "kaenp8PLlwyC3GrXEwT5s5Sh8jCbzapRo8atTobDXn/99QoFQfLz8/W3v/1NW7ZsuQmpqpg/orxc\n",
              "u3ZN165duyHbutHn70amDQAA/O8iCAIAAOAETCaTAgMD9cEHH5T6Lj8/X9HR0QoKCpK3t7d69+6t\n",
              "33//XVJhMCIjI0Mmk0mdO3eWVPqt7eJvGbdq1UojRoxQaGio2rVrJ0maMWOGQkJCFBgYqPbt2+uH\n",
              "H34oM73F31RfsGCBoqKi1KtXL/n6+iooKEjHjh0rtc68efOUmpqqF154QSaTSWvWrJEkXbx40ea6\n",
              "ixYtUosWLRQYGKjIyEjt3bvXZpqWLFmi5s2bq1GjRha9VOrXr6+xY8cqJCREAwYM0MWLFzVo0CD5\n",
              "+PjIx8dHr7/+urHszJkzFRwcLJPJpODgYCUnJxvfbd++XSaTST4+Pho4cKDFw81Tp06pR48eCgkJ\n",
              "ka+vr8aPHy+p8AHgc889p2bNmsnf31/NmzfX5cuXNWzYMGVnZ8tkMikoKKjUsRw+fFgPPfSQ/P39\n",
              "LbaXl5encePGKSQkRCaTST169FBmZqakwh4ITz/9tNq2basmTZqoW7duRlDtq6++kp+fn5H+L7/8\n",
              "0m66y1K8jE2ZMkXNmjWTyWSSyWQqVX7MZrPi4+O1ZMkSmUwmTZ482fhu0qRJRp4VlQdJSklJUZs2\n",
              "bRQUFKSAgAAtW7bMajrsHfOGDRsUGhqqgIAAeXt765NPPpFUGMBZtWqVpk+fLpPJpHnz5ikpKUkm\n",
              "k8nY7v79+1W/fn1J/6/HwNixYxUYGKg5c+bY3HZ5xMbG6vHHH1ebNm3UtGlTPfbYYzp79qzx/a+/\n",
              "/qrHHntMXl5eatOmjc6dOydJ8vX11fbt243lPv74Y/Xs2VOS7bwo3gvh4MGDio6Olp+fn/z8/Iwg\n",
              "qr2y76hWrVpp9OjRioyM1P33368JEyZozZo1Cg8PV/369TVz5kxj2TFjxhj7i4yMNHoWDRs2TJIU\n",
              "EREhk8mkM2fOKDs7W0OGDFFISIj8/Pw0dOhQI59Ltmkle3j06dNHQUFB8vPz06OPPqpTp06VeRx1\n",
              "69bVL7/8Iknq0aOHwsLCJElXrlzRnXfeqStXrujq1at66aWXjHbk+eefN9IUExOjQYMGKTIyUj4+\n",
              "PqW2b68tKWn69Ony9vaWr6+v+vTpo6ysLEn/r/xER0fLx8dHv/76q8V6JXvZFe9dmJSUJB8fHw0f\n",
              "Plz+/v7y9vZWamqqJMseMm+++aaee+45YxsXL15U7dq19dtvv0myfe2wljZr7aAkrVu3TuHh4Wre\n",
              "vLlCQkK0adOmMvOnKC8uXLhg8U9XCxxaFwAA/PUQBAEAAHASU6dO1dtvv134MKcYV1dXJSQkKDU1\n",
              "Vfv371fNmjU1e/ZsSYXDUnl6espsNmvVqlUO7ef777/X5s2btXHjRiUkJCgjI0PJycnas2eP+vTp\n",
              "o+HDh5c77SkpKZo6dar27dunqKgovf3226WWeeqppxQUFKS4uDiZzWZ17NjR7rrbtm3TZ599ps2b\n",
              "N2vPnj1688031bt3b5tpOH36tFJTU7Vjxw7Nnj3b4kHx2bNntXPnTi1ZskRvvPGGrly5ovT0dO3c\n",
              "uVMrV67U0qVLJUn9+vVTSkqKzGazZs+erYEDB0qScnNz1bNnT82YMUP79+9Xr169LAIyAwYM0LPP\n",
              "Pqtdu3YpLS1NqampWrZsmfbu3asNGzbou+++0969e7Vx40bddtttio+PV40aNWQ2m42Hj8XNmTNH\n",
              "nTp10t69e7Vv3z69+OKLkgofiFarVk27du2S2WwuFbgwm8366quvdPDgQZ0+fVrLly+XJI0fP15z\n",
              "586V2WxWenq6Hn74YbvpdlRmZqZmzJihPXv2yGw2a/v27brnnnssljGZTBo2bJj69Okjs9msiRMn\n",
              "SpKysrLk5+en3bt3a86cOXrhhRckFfaSGTp0qJYsWaLU1FStX79eo0eP1smTJ62mwdYxBwYGauvW\n",
              "rUpLS9OWLVs0efJk/fzzz+rYsaM6d+6sl156SWazWU899VSZx5mVlSVvb2/t2bNHo0aNsrnt8tqy\n",
              "ZYsSEhJ06NAh/f3vf9crr7xifLdz504tWLBABw4c0N133625c+dKkkaMGKE5c+YYy33wwQd67rnn\n",
              "HMqL/Px8/eMf/1BMTIzS09OVnp6u7t27S7Jd9svrhx9+0KZNm7R37169//77WrNmjbZs2aJt27Zp\n",
              "4sSJRjBm7Nixxv6GDx+ukSNHSpIRlNmyZYvMZrPuvvtujR49WhEREdq1a5f27t2ra9eu6b333jP2\n",
              "WbxNK2nWrFlKTU1Venq6IiIiFBsbW+YxtG3bVomJibp27Zr27t2rrKwsXbhwQVu3blXz5s3l7u6u\n",
              "jz/+WCkpKdq9e7fMZrOOHj2quLg4Yxu7d+/W6tWrS/V8K6stKe6bb77Rp59+qm3btmnfvn2qVq2a\n",
              "xo0bZ3yfnJyshQsX6sCBA6pbt26Zx1XcoUOHNGDAAO3du1fPP/+8XnvttVLL9O/fX//+97915coV\n",
              "SdKyZcvUunVr3XXXXWVeO4qn7cyZM1bbwWPHjik2NlZr1qzR7t27lZCQoN69exv7s+ett95SzZo1\n",
              "Lf7lHv+1zPUAAMBfk9utTgAAAABuDE9PT3Xu3Flvv/22QkNDjc8LCgoUFxen1atXKz8/X1lZWcab\n",
              "yRXRt29fVa5cWVLhsEApKSlq3ry5JOnq1asV2mZoaKgaNGhg/L8oSHM963755Zfau3evWrRoYSx7\n",
              "7tw55eTkqGrVqqW2M3jwYLm4uKhOnTrq1q2bEhMTjfMUExMjFxcXSVJiYqLeffddVapUSdWqVVP/\n",
              "/v21fv169ezZU2lpaXrzzTd19uxZubm5KSMjQzk5OTp8+LDc3NwUFRUlSWrXrp0aNmwoSfr999+1\n",
              "YcMGnT592kjLxYsXlZGRoXbt2ik/P1+DBg1S69at9eijj6pSpbLfY4qMjNRLL72kixcv6uGHHzb2\n",
              "u3LlSmVlZRkP+nNzc40eC5LUtWtX3X777ZKkkJAQHT16VFLhQ92RI0eqe/fuateunUwmk910O8rD\n",
              "w0ONGzdW37591a5dOz366KOqV6+eQ+tWqVJF3bp1k1SY70Vp3b59u44dO6YOHTpYLJ+RkWH1Qa+t\n",
              "Yz579qwGDx6s77//Xm5ubjp79qz279/vcPqKq1y5svr27Wv8faO2/eijj+ree++VJA0dOtQ4H5LU\n",
              "vn173XnnnZIKz8++ffskFdbfiRMn6vTp0zp8+LBcXFwUERGhq1evlpkXGRkZunz5snr16mV8VqdO\n",
              "HUmyWfat1TV7unfvLldXV91xxx1q2LChOnXqJBcXF9WtW1d33XWXTpw4IZPJpPXr12v27NnKzs7W\n",
              "tWvXjJ4u1qxcuVLJyclGT5KcnBy5uroa3xdv00pKSEjQokWLdPnyZV2+fNk4XnuioqKUmJgob29v\n",
              "+fv765577lFSUpKSk5PVtm1bSYXtSExMjNzd3SVJQ4YM0QcffKCxY8dKkp544gmrQ5AdOnTIZltS\n",
              "UmJionr27Gn0zHjmmWf0xBNPGN937NixVKDLUY0aNTLa1tDQUM34/9q78+Ca7v+P468sBMO1FbFn\n",
              "Yonkutk0pCYxQmgYgijVSkU7BGW66IytNdWOfb5TxjJN1DaioUa6ZCydaUqREksHqURbmRHRKlVF\n",
              "1Bbh/v4wOT8hN7m0cup4Pv6K5HPueZ/3Pfccc9/n83n/738PjGndurXCwsKUmZmpYcOGae3atcYy\n",
              "iFXdO+6Nzd/fv8Lr4Ndff62CggL16NHD2M7T01NFRUXq0KFDpfFPnz7dKA6XaZHQ6yGzAAAAnhQU\n",
              "QQAAACxk1qxZCgkJKffFdnp6unbs2KFdu3bJZrNpyZIlFT7xXMbb27vcF1L3r61ft25d42en06np\n",
              "06crOTn5H8Vdq1Yt42cvL6+HWgff1bZOp1NJSUmaO3fuI8VUVvSQyh+zq3ElJSVKSEjQzp07FRER\n",
              "oeLiYtWvX9/lU8ll2zmdd5dgycnJKXcsZY4dO6Zdu3Zp586dmj59unbv3i1v78r/Gz906FB1795d\n",
              "33zzjZYtW6bFixdr27ZtcjqdWrp0qbGU2f1c5fKjjz5SXl6edu7cqaSkpHJPbbuK2x1eXl7KycnR\n",
              "3r179d133ykyMlIbNmxwq7Gyj4+PkUMvLy/jnHU6nbLb7eVm8lTG1TGPHz9e/fv3V0ZGhjw8PBQe\n",
              "Hu6yz0RVn5k6deqUK149zGs/jHvPWVfHVbt2bY0ePVqpqak6fvy4Jk6caIx51PeisnP/YYsg98dd\n",
              "0XEUFRVp0qRJOnjwoNq1a6fc3NxyX4Tfz+l0KiMjQx07dqzw764+39nZ2VqyZIn27dunpk2bKjMz\n",
              "05iJVJnY2FhNnz5dQUFBio2NVbNmzZSVlaV9+/bp448/rnCbe9+7ymJyZ1t3x1W2j6rOaXev2a+9\n",
              "9prWrFmjLl26qKCgQHFxcZKqvnfcG1v9+vUrvA46nU716dNH6enpLo/DFR8fH6MA9f8H4l4eAQDA\n",
              "k4flsAAAACykRYsWGjNmTLkv/i9evKhnnnlGNptNV65c0dq1a42/2Ww2Y434Mu3bt9f+/fslSQcO\n",
              "HKj0yf7BgwcrJSXFeAr71q1bOnz4sLFt2VPP/5aK4nUlPj5e69evV1FRkaS7/TUqWjqqTFle/vrr\n",
              "L33xxRcuY4+NjdWqVavkdDp19epVpaWlqW/fvrpx44ZKSkrUpk0bSSo3m6VTp04qLS011qvPysoy\n",
              "ZhzUrVtXMTEx5RqdnzlzRr/++qvOnz+vq1evqm/fvpo7d678/PyUn58vm82m69evGz0E7nfixAk1\n",
              "a9ZMo0aN0sKFC40m3oMHD9aiRYt07do1SdK1a9eUl5dXZS5/+ukn2e12TZo0SRMmTFBOTk6lcUt3\n",
              "n7S+d9mlily5ckXnzp1TdHS0Zs6cqaioKOP8udfDvO/du3fXyZMnlZWVZfzuyJEjLnPlysWLF9W2\n",
              "bVt5eHho9+7d5ZYcuj8ef39/nTp1yuh1kJaW9sivfa+qPkPbtm0zZuKsXLnSmB1QlYkTJ2rFihXa\n",
              "sWOHRo4cKcm99yIgIEB16tTRhg0bjN/9+eeflZ7791u2bFm5ZbsexeXLl1WjRg01b95cTqfzgfOs\n",
              "Xr165d6fwYMHa8GCBcYX9RcvXlRBQUGV+7l48aLq1aunxo0bq6SkxFhSrCotWrRQ/fr1lZKSotjY\n",
              "WMXExGjLli0qLCxUeHi4pLvXkXXr1qmkpESlpaVauXKly+LkvSq7ltwvNjZWmzZtMpZITE1NdWsf\n",
              "0t37QG5urq5fv67S0tJHKjRId3N/8OBBzZs3T4mJiUYBt7J7x/1cXQeff/55ZWVlKTc31xh74MCB\n",
              "R4oTAABYG0UQAAAAi5k2bVq5viCjRo3StWvXFBAQoH79+pV7sjs4OFh2u12dO3c2GqPPnj1by5cv\n",
              "V0hIiFavXi273e5yXyNHjtTo0aMVExOjkJAQhYaGGrNMCgsLH/op8KokJydr7ty55RqjuxIdHa2F\n",
              "CxdqyJAhRvPejRs3uhzfpEkTo7nupEmTXC4ZNnPmTNWoUUMOh0PdunVTfHy8hg8fLpvNptmzZ6tr\n",
              "167q0qWLatasaWxTs2ZNffbZZ3r77bflcDiUnp6ukJAQ4++ffvqpCgoK1LlzZzkcDiUkJOjChQs6\n",
              "ffq0+vTpo+DgYKOBcr9+/dSoUSONGjVKwcHBFTZG37x5sxwOh8LCwvTiiy8afRKmTp2qiIgIdevW\n",
              "TcHBwYqMjDQalFdmxowZstvtCgsLU1pamtEXwVXcknT06FFjqSZXLl++rISEBDkcDgUHB+vWrVtK\n",
              "Skp6YNyQIUN05MiRBxqjV6Rhw4baunWr5s6dq5CQEAUFBWnatGm6c+dOlcd5r/nz52vatGkKDQ3V\n",
              "6tWryy2r9sorr2jTpk0KCwvTypUr1aJFC02ZMkVdu3ZVZGSkGjVq9Mivfa+qPkPR0dF6+eWX1alT\n",
              "J506dcrtWU+tWrVSWFiYEhMTjaXA3HkvvL299dVXX2nNmjVyOBwKCQlRRkZGpef+/fLz841luh6V\n",
              "w+HQiBEjZLfbFRERYRRfyrzzzjvq06eP0Rh90aJFql27tkJDQxUcHKzevXursLCwyv3ExcUpICBA\n",
              "AQEBRqN1d8XGxsrT01P+/v6y2Wzy9fVVjx49jBlBycnJCg8PV3h4uEJDQ+Xn56e33nqrytet6lpy\n",
              "r379+unVV1/Vc889J4fDoeLiYs2bN8+t+CMjI9W/f3917txZPXv2rHJ5KVd8fHw0fPhwrVy5slyf\n",
              "mMruHfdzdR1s37690tPTNW7cOIWEhCgwMFCLFy82tgsNDTUa1AMAgKebh7Ns/j0AAADwL5o4caJe\n",
              "euklRUVFmR0Kqtnt27cVGRmp/fv3u9XDBBWr7DM0a9YsXbp0qdyXvu66evWqAgICtGfPHqOfTnWJ\n",
              "iorS9u3bK+x3AZip7vMRajDi3529CAAApF9fnV/1oMeMniAAAAB4LJYvX252CDCJl5eXDh48aHYY\n",
              "T7zH8RlKSUnRnDlz9Prrr1d7AUS622cDAAAAqE7MBAEAAAAAAE81ZoIAAPB4/BdmgjA3HQAAAAAA\n",
              "AAAAWBJFEAAAAAAAAAAAYEkUQQAAAAAAAAAAgCVRBAEAAAAAAAAAAJZEEQQAAAAAAAAAAFgSRRAA\n",
              "AAAAAAAAAGBJFEEAAAAAAAAAAIAlUQQBAAAAAAAAAACWRBEEAAAAAAAAAABYEkUQAAAAAAAAAABg\n",
              "SRRBAAAAAAAAAACAJXmbHQAAAAAAAICZku3R+ujV+WaHAQAAHgNmggAAAAAAAAAAAEuiCAIAAAAA\n",
              "AAAAACyJIggAAAAAAAAAALAkiiAAAAAAAAAAAMCSKIIAAAAAAAAAAABLoggCAAAAAAAAAAAsiSII\n",
              "AAAAAAAAAACwJIogAAAAAAAAAADAkiiCAAAAAAAAAAAAS6IIAgAAAAAAAAAALIkiCAAAAAAAAAAA\n",
              "sCSKIAAAAAAAAAAAwJIoggAAAAAAAAAAAEuiCAIAAAAAAAAAACyJIggAAAAAAAAAALAkiiAAAAAA\n",
              "AAAAAMCSKIIAAAAAAAAAAABL8jY7AAAAAAAAALPcvHlT27dv1+3bt+Xl5WV2OE+V27dv68CBA+ra\n",
              "tSu5r0bk3Tzk3hzk3TyPO/dt27bVm2++WeU4D6fT6fzX9w4AAAAAAPAEKC4uVv369XX58mXZbDaz\n",
              "w3mqkHtzkHfzkHtzkHfz/Fdyz3JYAAAAAAAAAADAkiiCAAAAAAAAAAAAS6IIAgAAAAAAAAAALIki\n",
              "CAAAAAAAeGr5+Pjo/fffl4+Pj9mhPHXIvTnIu3nIvTnIu3n+K7mnMToAAAAAAAAAALAkZoIAAAAA\n",
              "AAAAAABLoggCAAAAAAAAAAAsiSIIAAAAAAAAAACwJIogAAAAAADA8k6cOKHu3burY8eOioiIUF5e\n",
              "XoXjVq1apQ4dOqhdu3YaO3asbt26Vc2RWo87ud+xY4e6du2qoKAg2e12TZkyRXfu3DEhWutw95yX\n",
              "JKfTqV69eqlBgwbVF6CFuZv7H3/8UT179lRgYKACAwP1+eefV3Ok1uJO3u/cuaPJkycrKChIwcHB\n",
              "iomJUUFBgQnRWscbb7whPz8/eXh46MiRIy7HmXl/pQgCAAAAAAAsb9y4cUpOTtYvv/yiqVOnavTo\n",
              "0Q+MOXnypGbOnKk9e/aooKBA586d04oVK6o/WItxJ/cNGzbUxo0blZ+frx9++EF79+7VunXrqj9Y\n",
              "C3En72UWLVqkdu3aVV9wFudO7q9du6ZBgwZp9uzZOn78uI4dO6bo6OjqD9ZC3Ml7Zmamvv/+ex09\n",
              "elS5ubnq3bu3ZsyYUf3BWsgLL7yg7OxstW3b1uUYs++vFEEAAAAAAICl/fHHHzp06JASExMlSUOH\n",
              "DtXp06cfePp38+bNio+Pl6+vrzw8PDR+/Hht2LDBjJAtw93ch4WFyd/fX5JUq1YthYaGqrCwsLrD\n",
              "tQx38y5JeXl5+vLLLzVt2rTqDtOS3M19enq6IiMjFRUVJUny8vJSkyZNqj1eq3A37x4eHrp586Zu\n",
              "3Lghp9Op4uJitWrVyoyQLaNHjx5V5tDs+ytFEAAAAAAAYGmnT59W8+bN5e3tLenul2Bt2rRRUVFR\n",
              "uXFFRUXlnmT18/N7YAwejru5v9fZs2e1efNmDRgwoLrCtBx3837r1i2NHTtWqamp8vLyMiNUy3E3\n",
              "9/n5+fLx8dGAAQMUGhqqUaNG6fz582aEbAnu5n3gwIHq2bOnfH191bx5c3377bf68MMPzQj5qWL2\n",
              "/ZUiCAAAAAAAAP4TiouLNXDgQE2ZMkXPPvus2eFY3gcffKCEhAQFBgaaHcpTp7S0VFlZWUpNTdXh\n",
              "w4fVsmVLTZgwweywLO/QoUM6duyYfvvtN505c0a9e/fW+PHjzQ4LjxlFEAAAAAAAYGmtW7fW77//\n",
              "rtLSUkl3m0AXFRWpTZs25ca1adNGp06dMv5dWFj4wBg8HHdzL0lXrlxRXFycBg0apMmTJ1d3qJbi\n",
              "bt537dqlpUuXys/PT1FRUSouLpafnx8zEv6Bh7nexMTEqGXLlvLw8FBiYqJycnLMCNkS3M37unXr\n",
              "1KtXLzVo0ECenp5KSkrSzp07zQj5qWL2/ZUiCAAAAAAAsLSmTZsqPDxc69evlyRlZGSoVatWat++\n",
              "fblxQ4cOVWZmps6ePSun06mUlBSNGDHCjJAtw93c//3334qLi1NcXJzee+89M0K1FHfzvmfPHp06\n",
              "dUqFhYXKzs6WzWZTYWEhvSn+AXdzP3z4cB08eFDFxcWSpG3btikkJKTa47UKd/Pu7++vHTt2qKSk\n",
              "RJK0ZcsWde7cudrjfdqYfX/1cDqdzmrbGwAAAAAAgAl+/vlnjR49WhcuXJDNZtOaNWvkcDg0ZswY\n",
              "xcfHKz4+XpL0ySefaP78+ZKknj17KiUlRTVq1DAz9CeeO7mfM2eOZs2aJbvdbmw3bNgwvfvuuyZG\n",
              "/mRz95wvU1hYqNDQUF26dMmcgC3E3dynpaVpwYIF8vT0VMuWLbVixQq1bt3a5OifXO7k/ebNm5o0\n",
              "aZKys7NVo0YN+fr6KiUlRf7+/maH/8QaN26ctm7dqrNnz6px48aqV6+eCgoK/lP3V4ogAAAAAAAA\n",
              "AADAklgOCwAAAAAAAAAAWBJFEAAAAAAAAAAAYEkUQQAAAAAAAAAAgCVRBAEAAAAAAAAAAJZEEQQA\n",
              "AAAAAAAAAFgSRRAAAAAAAAAAAGBJFEEAAAAAAAAAAIAlUQQBAAAAAAAAAACWRBEEAAAAAAAAAABY\n",
              "EkUQAAAAAAAAAABgSRRBAAAAAAAAAACAJf0f3JZWGKfaNocAAAAASUVORK5CYII=\n",
              "\">\n",
              "      </div>\n",
              "      <script type=\"text/javascript\">\n",
              "        (() => {\n",
              "          const chartElement = document.getElementById(\"chart-d375a5ec-affe-4309-be90-7890fbd723b8\");\n",
              "          async function getCodeForChartHandler(event) {\n",
              "            const chartCodeResponse =  await google.colab.kernel.invokeFunction(\n",
              "                'getCodeForChart', [\"chart-d375a5ec-affe-4309-be90-7890fbd723b8\"], {});\n",
              "            const responseJson = chartCodeResponse.data['application/json'];\n",
              "            await google.colab.notebook.addCell(responseJson.code, 'code');\n",
              "          }\n",
              "          chartElement.onclick = getCodeForChartHandler;\n",
              "        })();\n",
              "      </script>\n",
              "      <style>\n",
              "        .colab-quickchart-chart-with-code  {\n",
              "            display: block;\n",
              "            float: left;\n",
              "            border: 1px solid transparent;\n",
              "        }\n",
              "\n",
              "        .colab-quickchart-chart-with-code:hover {\n",
              "            cursor: pointer;\n",
              "            border: 1px solid #aaa;\n",
              "        }\n",
              "      </style>"
            ]
          },
          "metadata": {}
        }
      ],
      "source": [
        "data = pd.read_csv(\"Language Detection.csv\")\n",
        "data.info()\n",
        "data.head()"
      ]
    },
    {
      "cell_type": "markdown",
      "metadata": {
        "id": "ogMrd3pC2EcE"
      },
      "source": [
        "# Смотрим количество текстов на каждом языке"
      ]
    },
    {
      "cell_type": "code",
      "execution_count": 18,
      "metadata": {
        "colab": {
          "base_uri": "https://localhost:8080/"
        },
        "id": "wKh7axIi2EcF",
        "outputId": "cf158178-051d-4c0b-91c3-a9e95c4d87c3"
      },
      "outputs": [
        {
          "output_type": "execute_result",
          "data": {
            "text/plain": [
              "English       1385\n",
              "French        1014\n",
              "Spanish        819\n",
              "Portugeese     739\n",
              "Italian        698\n",
              "Russian        692\n",
              "Sweedish       676\n",
              "Malayalam      594\n",
              "Dutch          546\n",
              "Arabic         536\n",
              "Turkish        474\n",
              "German         470\n",
              "Tamil          469\n",
              "Danish         428\n",
              "Kannada        369\n",
              "Greek          365\n",
              "Hindi           63\n",
              "Name: Language, dtype: int64"
            ]
          },
          "metadata": {},
          "execution_count": 18
        }
      ],
      "source": [
        "data[\"Language\"].value_counts()"
      ]
    },
    {
      "cell_type": "code",
      "execution_count": 19,
      "metadata": {
        "colab": {
          "base_uri": "https://localhost:8080/",
          "height": 554
        },
        "id": "xy5OHlG52EcG",
        "outputId": "3b0855ce-c889-4f1c-e905-c450910ff97a"
      },
      "outputs": [
        {
          "output_type": "display_data",
          "data": {
            "text/plain": [
              "<Figure size 1000x600 with 1 Axes>"
            ],
            "image/png": "[encoded data removed]"
          },
          "metadata": {}
        }
      ],
      "source": [
        "plt.figure(figsize=(10, 6))\n",
        "sns.countplot(y='Language', data=data, order = data['Language'].value_counts().index)\n",
        "plt.title('Language Distribution in the Dataset')\n",
        "plt.xlabel('Count')\n",
        "plt.ylabel('Language')\n",
        "plt.show()"
      ]
    },
    {
      "cell_type": "code",
      "execution_count": 20,
      "metadata": {
        "colab": {
          "base_uri": "https://localhost:8080/",
          "height": 680
        },
        "id": "QaFPVekV2EcG",
        "outputId": "8a60abf4-3a54-4b04-e1b1-229d8c0cd3d6"
      },
      "outputs": [
        {
          "output_type": "display_data",
          "data": {
            "text/plain": [
              "<Figure size 1200x800 with 1 Axes>"
            ],
            "image/png": "[encoded data removed]"
          },
          "metadata": {}
        }
      ],
      "source": [
        "data['Text Length'] = data['Text'].apply(len)\n",
        "plt.figure(figsize=(12, 8))\n",
        "sns.boxplot(x='Language', y='Text Length', data=data)\n",
        "plt.xticks(rotation=90)\n",
        "plt.title('Distribution of Text Lengths by Language')\n",
        "plt.xlabel('Language')\n",
        "plt.ylabel('Text Length')\n",
        "plt.show()"
      ]
    },
    {
      "cell_type": "markdown",
      "metadata": {
        "id": "dbDyQEZq2EcH"
      },
      "source": [
        "# Разделяем признаки и целевую переменную"
      ]
    },
    {
      "cell_type": "code",
      "execution_count": 21,
      "metadata": {
        "id": "OPtcAJVp2EcI"
      },
      "outputs": [],
      "source": [
        "X = data[\"Text\"]\n",
        "y = data[\"Language\"]"
      ]
    },
    {
      "cell_type": "markdown",
      "metadata": {
        "id": "2AvpxVr12EcI"
      },
      "source": [
        "# Преобразуем категориальные переменные в числовые"
      ]
    },
    {
      "cell_type": "code",
      "execution_count": 22,
      "metadata": {
        "id": "aO-gWqs62EcJ"
      },
      "outputs": [],
      "source": [
        "from sklearn.preprocessing import LabelEncoder\n",
        "le = LabelEncoder()\n",
        "y = le.fit_transform(y)"
      ]
    },
    {
      "cell_type": "markdown",
      "metadata": {
        "id": "flDmZHwy2EcJ"
      },
      "source": [
        "# Создаем список для добавления предобработанных текстов"
      ]
    },
    {
      "cell_type": "code",
      "execution_count": 23,
      "metadata": {
        "id": "n0kUAbQ42EcJ"
      },
      "outputs": [],
      "source": [
        "data_list = []"
      ]
    },
    {
      "cell_type": "markdown",
      "metadata": {
        "id": "eDLn_tdf2EcK"
      },
      "source": [
        "# Итерируем по всем текстам"
      ]
    },
    {
      "cell_type": "code",
      "execution_count": 24,
      "metadata": {
        "id": "Ni_qlCmE2EcK"
      },
      "outputs": [],
      "source": [
        "for text in X:\n",
        "    # Удаляем символы и цифры\n",
        "    text = re.sub(r'[!@#$(),n\"%^*?:;~`0-9]', ' ', text)\n",
        "    text = re.sub(r'[[]]', ' ', text)\n",
        "    # Приводим текст к нижнему регистру\n",
        "    text = text.lower()\n",
        "    # Добавляем в список\n",
        "    data_list.append(text)"
      ]
    },
    {
      "cell_type": "markdown",
      "metadata": {
        "id": "jWNAfJqw2EcL"
      },
      "source": [
        "# Создаем мешок слов с помощью CountVectorizer"
      ]
    },
    {
      "cell_type": "code",
      "execution_count": 25,
      "metadata": {
        "id": "X-dYdqxl2EcL"
      },
      "outputs": [],
      "source": [
        "from sklearn.feature_extraction.text import CountVectorizer\n",
        "\n",
        "\n",
        "cv = CountVectorizer()\n",
        "X = cv.fit_transform(data_list).toarray()"
      ]
    },
    {
      "cell_type": "markdown",
      "metadata": {
        "id": "5yzyXu4q2EcL"
      },
      "source": [
        "# Делим данные на обучающую и тестовую выборки"
      ]
    },
    {
      "cell_type": "code",
      "execution_count": 26,
      "metadata": {
        "id": "WNjPcHlC2EcM"
      },
      "outputs": [],
      "source": [
        "from sklearn.model_selection import train_test_split\n",
        "\n",
        "x_train, x_test, y_train, y_test = train_test_split(X, y, test_size = 0.03)"
      ]
    },
    {
      "cell_type": "markdown",
      "metadata": {
        "id": "vKklOtLL2EcM"
      },
      "source": [
        "# Создаем и обучаем модель с помощью MultinomialNB"
      ]
    },
    {
      "cell_type": "code",
      "execution_count": 27,
      "metadata": {
        "colab": {
          "base_uri": "https://localhost:8080/",
          "height": 75
        },
        "id": "AbjKY3tF2EcM",
        "outputId": "a240a037-fd09-42d3-b089-9a821494a380"
      },
      "outputs": [
        {
          "output_type": "execute_result",
          "data": {
            "text/plain": [
              "MultinomialNB()"
            ],
            "text/html": [
              "<style>#sk-container-id-1 {color: black;background-color: white;}#sk-container-id-1 pre{padding: 0;}#sk-container-id-1 div.sk-toggleable {background-color: white;}#sk-container-id-1 label.sk-toggleable__label {cursor: pointer;display: block;width: 100%;margin-bottom: 0;padding: 0.3em;box-sizing: border-box;text-align: center;}#sk-container-id-1 label.sk-toggleable__label-arrow:before {content: \"▸\";float: left;margin-right: 0.25em;color: #696969;}#sk-container-id-1 label.sk-toggleable__label-arrow:hover:before {color: black;}#sk-container-id-1 div.sk-estimator:hover label.sk-toggleable__label-arrow:before {color: black;}#sk-container-id-1 div.sk-toggleable__content {max-height: 0;max-width: 0;overflow: hidden;text-align: left;background-color: #f0f8ff;}#sk-container-id-1 div.sk-toggleable__content pre {margin: 0.2em;color: black;border-radius: 0.25em;background-color: #f0f8ff;}#sk-container-id-1 input.sk-toggleable__control:checked~div.sk-toggleable__content {max-height: 200px;max-width: 100%;overflow: auto;}#sk-container-id-1 input.sk-toggleable__control:checked~label.sk-toggleable__label-arrow:before {content: \"▾\";}#sk-container-id-1 div.sk-estimator input.sk-toggleable__control:checked~label.sk-toggleable__label {background-color: #d4ebff;}#sk-container-id-1 div.sk-label input.sk-toggleable__control:checked~label.sk-toggleable__label {background-color: #d4ebff;}#sk-container-id-1 input.sk-hidden--visually {border: 0;clip: rect(1px 1px 1px 1px);clip: rect(1px, 1px, 1px, 1px);height: 1px;margin: -1px;overflow: hidden;padding: 0;position: absolute;width: 1px;}#sk-container-id-1 div.sk-estimator {font-family: monospace;background-color: #f0f8ff;border: 1px dotted black;border-radius: 0.25em;box-sizing: border-box;margin-bottom: 0.5em;}#sk-container-id-1 div.sk-estimator:hover {background-color: #d4ebff;}#sk-container-id-1 div.sk-parallel-item::after {content: \"\";width: 100%;border-bottom: 1px solid gray;flex-grow: 1;}#sk-container-id-1 div.sk-label:hover label.sk-toggleable__label {background-color: #d4ebff;}#sk-container-id-1 div.sk-serial::before {content: \"\";position: absolute;border-left: 1px solid gray;box-sizing: border-box;top: 0;bottom: 0;left: 50%;z-index: 0;}#sk-container-id-1 div.sk-serial {display: flex;flex-direction: column;align-items: center;background-color: white;padding-right: 0.2em;padding-left: 0.2em;position: relative;}#sk-container-id-1 div.sk-item {position: relative;z-index: 1;}#sk-container-id-1 div.sk-parallel {display: flex;align-items: stretch;justify-content: center;background-color: white;position: relative;}#sk-container-id-1 div.sk-item::before, #sk-container-id-1 div.sk-parallel-item::before {content: \"\";position: absolute;border-left: 1px solid gray;box-sizing: border-box;top: 0;bottom: 0;left: 50%;z-index: -1;}#sk-container-id-1 div.sk-parallel-item {display: flex;flex-direction: column;z-index: 1;position: relative;background-color: white;}#sk-container-id-1 div.sk-parallel-item:first-child::after {align-self: flex-end;width: 50%;}#sk-container-id-1 div.sk-parallel-item:last-child::after {align-self: flex-start;width: 50%;}#sk-container-id-1 div.sk-parallel-item:only-child::after {width: 0;}#sk-container-id-1 div.sk-dashed-wrapped {border: 1px dashed gray;margin: 0 0.4em 0.5em 0.4em;box-sizing: border-box;padding-bottom: 0.4em;background-color: white;}#sk-container-id-1 div.sk-label label {font-family: monospace;font-weight: bold;display: inline-block;line-height: 1.2em;}#sk-container-id-1 div.sk-label-container {text-align: center;}#sk-container-id-1 div.sk-container {/* jupyter's `normalize.less` sets `[hidden] { display: none; }` but bootstrap.min.css set `[hidden] { display: none !important; }` so we also need the `!important` here to be able to override the default hidden behavior on the sphinx rendered scikit-learn.org. See: https://github.com/scikit-learn/scikit-learn/issues/21755 */display: inline-block !important;position: relative;}#sk-container-id-1 div.sk-text-repr-fallback {display: none;}</style><div id=\"sk-container-id-1\" class=\"sk-top-container\"><div class=\"sk-text-repr-fallback\"><pre>MultinomialNB()</pre><b>In a Jupyter environment, please rerun this cell to show the HTML representation or trust the notebook. <br />On GitHub, the HTML representation is unable to render, please try loading this page with nbviewer.org.</b></div><div class=\"sk-container\" hidden><div class=\"sk-item\"><div class=\"sk-estimator sk-toggleable\"><input class=\"sk-toggleable__control sk-hidden--visually\" id=\"sk-estimator-id-1\" type=\"checkbox\" checked><label for=\"sk-estimator-id-1\" class=\"sk-toggleable__label sk-toggleable__label-arrow\">MultinomialNB</label><div class=\"sk-toggleable__content\"><pre>MultinomialNB()</pre></div></div></div></div></div>"
            ]
          },
          "metadata": {},
          "execution_count": 27
        }
      ],
      "source": [
        "from sklearn.naive_bayes import MultinomialNB\n",
        "model = MultinomialNB()\n",
        "model.fit(x_train, y_train)"
      ]
    },
    {
      "cell_type": "markdown",
      "metadata": {
        "id": "cDH9qX4d2EcN"
      },
      "source": [
        "# Делаем предсказания на тестовой выборке\n"
      ]
    },
    {
      "cell_type": "code",
      "execution_count": 28,
      "metadata": {
        "id": "q06N0EP32EcN"
      },
      "outputs": [],
      "source": [
        "y_pred = model.predict(x_test)"
      ]
    },
    {
      "cell_type": "markdown",
      "metadata": {
        "id": "9tc_HupO2EcN"
      },
      "source": [
        "# Оцениваем модель с помощью accuracy_score и confusion_matrix"
      ]
    },
    {
      "cell_type": "code",
      "execution_count": 29,
      "metadata": {
        "id": "e3RltEj62EcN"
      },
      "outputs": [],
      "source": [
        "from sklearn.metrics import accuracy_score, confusion_matrix\n",
        "\n",
        "ac = accuracy_score(y_test, y_pred)\n",
        "cm = confusion_matrix(y_test, y_pred)"
      ]
    },
    {
      "cell_type": "markdown",
      "metadata": {
        "id": "eB-sEmnk2EcO"
      },
      "source": [
        "# Визуализируем матрицу ошибок"
      ]
    },
    {
      "cell_type": "code",
      "execution_count": 30,
      "metadata": {
        "colab": {
          "base_uri": "https://localhost:8080/",
          "height": 674
        },
        "id": "sE2NYBsw2EcO",
        "outputId": "d35e246e-388c-44d1-d1d5-ec508a1fcbe7"
      },
      "outputs": [
        {
          "output_type": "display_data",
          "data": {
            "text/plain": [
              "<Figure size 1500x1000 with 2 Axes>"
            ],
            "image/png": "[encoded data removed]"
          },
          "metadata": {}
        }
      ],
      "source": [
        "plt.figure(figsize= (15,10))\n",
        "sns.heatmap(cm, annot = True)\n",
        "plt.show()"
      ]
    },
    {
      "cell_type": "markdown",
      "metadata": {
        "id": "IT7h31Xo2EcP"
      },
      "source": [
        "# Функция для предсказания языка текста"
      ]
    },
    {
      "cell_type": "code",
      "execution_count": 31,
      "metadata": {
        "id": "gN2IYbIZ2EcP"
      },
      "outputs": [],
      "source": [
        "def predict(text):\n",
        "    x = cv.transform([text]).toarray()\n",
        "    lang = model.predict(x)\n",
        "    lang = le.inverse_transform(lang)\n",
        "    print(\"The langauge is in\",lang)"
      ]
    },
    {
      "cell_type": "code",
      "execution_count": 32,
      "metadata": {
        "colab": {
          "base_uri": "https://localhost:8080/"
        },
        "id": "tabJ-TvD2EcP",
        "outputId": "a01201b3-e40e-4d47-ea9a-29e5b97792e6"
      },
      "outputs": [
        {
          "output_type": "stream",
          "name": "stdout",
          "text": [
            "The langauge is in ['English']\n",
            "The langauge is in ['Russian']\n",
            "The langauge is in ['Turkish']\n",
            "The langauge is in ['German']\n",
            "The langauge is in ['Arabic']\n"
          ]
        }
      ],
      "source": [
        "predict(\"Hi my name is dastan\")\n",
        "predict(\"Привет меня зовут дастан\")\n",
        "predict(\"Merhaba benim adım destan\")\n",
        "predict(\"Hallo mein Name ist dastan\")\n",
        "predict(\"مرحبا اسمي داستان\")"
      ]
    },
    {
      "cell_type": "code",
      "source": [
        "import joblib\n",
        "\n",
        "# Assuming 'model' is your RandomForestClassifier and 'cv' is CountVectorizer\n",
        "joblib.dump(model, 'language_detection_model.pkl')\n",
        "joblib.dump(cv, 'count_vectorizer.pkl')"
      ],
      "metadata": {
        "colab": {
          "base_uri": "https://localhost:8080/"
        },
        "id": "IB-aJXiT2JW-",
        "outputId": "45966a5a-ab13-46c5-d1a4-4b1064a4afba"
      },
      "execution_count": 33,
      "outputs": [
        {
          "output_type": "execute_result",
          "data": {
            "text/plain": [
              "['count_vectorizer.pkl']"
            ]
          },
          "metadata": {},
          "execution_count": 33
        }
      ]
    },
    {
      "cell_type": "code",
      "source": [
        "joblib.dump(le, 'label_encoder.pkl')"
      ],
      "metadata": {
        "colab": {
          "base_uri": "https://localhost:8080/"
        },
        "id": "Y4_Nt6vW4_tA",
        "outputId": "a06301b1-489c-4d56-b5aa-86b528a21410"
      },
      "execution_count": 34,
      "outputs": [
        {
          "output_type": "execute_result",
          "data": {
            "text/plain": [
              "['label_encoder.pkl']"
            ]
          },
          "metadata": {},
          "execution_count": 34
        }
      ]
    }
  ],
  "metadata": {
    "kernelspec": {
      "display_name": "Python 3",
      "language": "python",
      "name": "python3"
    },
    "language_info": {
      "codemirror_mode": {
        "name": "ipython",
        "version": 3
      },
      "file_extension": ".py",
      "mimetype": "text/x-python",
      "name": "python",
      "nbconvert_exporter": "python",
      "pygments_lexer": "ipython3",
      "version": "3.11.5"
    },
    "orig_nbformat": 4,
    "colab": {
      "provenance": []
    }
  },
  "nbformat": 4,
  "nbformat_minor": 0
}